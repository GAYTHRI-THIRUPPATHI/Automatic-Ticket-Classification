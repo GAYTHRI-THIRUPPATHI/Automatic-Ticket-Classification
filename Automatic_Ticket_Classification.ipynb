{
 "cells": [
  {
   "cell_type": "markdown",
   "metadata": {
    "id": "rhR-ZUkwJrFn"
   },
   "source": [
    "# AUTOMATIC TICKET CLASSIFICATION\n",
    "\n",
    "### Aim : To create a model that can automatically classify customer complaints based on the products and services mentioned in the ticket.\n",
    "\n",
    "## Problem Statement \n",
    "\n",
    "- For a financial company, __customer complaints__ carry a lot of importance, as they are often an indicator of the __shortcomings in their products and services__. If these complaints are resolved efficiently in time, they can bring down customer dissatisfaction to a minimum and retain them with stronger loyalty. This also gives them an idea of how to continuously improve their services to attract more customers.<br><br>\n",
    "- These customer complaints are __unstructured text data__; so, traditionally, companies need to allocate the task of evaluating and assigning each ticket to the relevant department to multiple support employees. This becomes tedious as the company grows and has a large customer base.<br><br>\n",
    "- Thus we have to automate this __customer support tickets system__.<br>\n",
    "\n",
    "## Business Goal\n",
    "\n",
    "- We need to build a model that is able to __classify customer complaints based on the products/services__. By doing so, we can __segregate__ these tickets into their __relevant categories__ and, therefore, help in the __quick resolution of the issue__.<br><br>\n",
    "- With the help of __non-negative matrix factorization (NMF)__, an approach under __topic modelling__, we will detect __patterns and recurring words__ present in each ticket. This can be then used to understand the __important features__ for each cluster of categories. By __segregating the clusters__, we will be able to identify the __topics of the customer complaints__. <br><br>\n",
    "\n",
    "- We will be doing topic modelling on the <b>.json</b> data provided by the company. Since this data is __not labelled__, we need to apply __NMF__ to __analyse patterns and classify tickets__ into the following __five clusters__ based on their products/services:\n",
    "\n",
    "> - Credit card / Prepaid card\n",
    "> - Bank account services\n",
    "> - Theft/Dispute reporting\n",
    "> - Mortgages/loans\n",
    "> - Others <br>\n",
    "\n",
    "\n",
    "- With the help of __topic modelling__, we will be able to __map each ticket onto its respective department/category__. We can then use this data to train any supervised model such as __logistic regression, decision tree or random forest__. Using this trained model, we can __classify__ any new customer complaint support __ticket__ into its __relevant department__."
   ]
  },
  {
   "cell_type": "markdown",
   "metadata": {
    "id": "mcgXVNyaLUFS"
   },
   "source": [
    "## Pipelines that needs to be performed:\n",
    "\n",
    "\n",
    "1. Loading data\n",
    "\n",
    "2. Data understanding\n",
    "\n",
    "3. Data preparation\n",
    "\n",
    "4. Prepare the text for topic modeling\n",
    "\n",
    "5. Exploratory Data Analysis (EDA)\n",
    "\n",
    "6. Feature extraction \n",
    "\n",
    "7. Topic modeling using NMF\n",
    "\n",
    "8. Supervised Model to predict any new complaints to relevant topics\n",
    "> a. Logistic Regression<br>\n",
    "> b. Decision Tree Classifier<br>\n",
    "> c. Random Forest Classifier<br>\n",
    "> d. NAive Bayes<br>\n",
    "\n",
    "9. Model inference"
   ]
  },
  {
   "cell_type": "markdown",
   "metadata": {
    "id": "JuLFIymAL58u"
   },
   "source": [
    "## Import the required libraries"
   ]
  },
  {
   "cell_type": "code",
   "execution_count": 1,
   "metadata": {
    "id": "O-Q9pqrcJrFr"
   },
   "outputs": [],
   "source": [
    "import json \n",
    "import numpy as np\n",
    "import pandas as pd\n",
    "import re, nltk, spacy, string\n",
    "import en_core_web_sm\n",
    "nlp = en_core_web_sm.load()\n",
    "import seaborn as sns\n",
    "import matplotlib.pyplot as plt\n",
    "import swifter\n",
    "%matplotlib inline\n",
    "import warnings\n",
    "warnings.filterwarnings('ignore')\n",
    "\n",
    "from plotly.offline import plot\n",
    "import plotly.graph_objects as go\n",
    "import plotly.express as px\n",
    "\n",
    "from nltk.stem import WordNetLemmatizer\n",
    "from nltk.tokenize import word_tokenize\n",
    "\n",
    "from sklearn.feature_extraction.text import CountVectorizer, TfidfVectorizer\n",
    "from sklearn.feature_extraction.text import TfidfTransformer\n",
    "from pprint import pprint\n",
    "from nltk.corpus import stopwords\n",
    "from wordcloud import WordCloud\n",
    "from sklearn.decomposition import NMF\n",
    "from sklearn import metrics\n",
    "\n",
    "from sklearn.model_selection import train_test_split\n",
    "from sklearn.linear_model import LogisticRegression\n",
    "from sklearn.tree import DecisionTreeClassifier\n",
    "from sklearn.ensemble import RandomForestClassifier\n",
    "from sklearn.naive_bayes import GaussianNB\n",
    "from sklearn.metrics import classification_report"
   ]
  },
  {
   "cell_type": "code",
   "execution_count": 2,
   "metadata": {},
   "outputs": [
    {
     "name": "stderr",
     "output_type": "stream",
     "text": [
      "[nltk_data] Downloading package wordnet to\n",
      "[nltk_data]     C:\\Users\\gayth\\AppData\\Roaming\\nltk_data...\n",
      "[nltk_data]   Package wordnet is already up-to-date!\n",
      "[nltk_data] Downloading package stopwords to\n",
      "[nltk_data]     C:\\Users\\gayth\\AppData\\Roaming\\nltk_data...\n",
      "[nltk_data]   Package stopwords is already up-to-date!\n"
     ]
    },
    {
     "data": {
      "text/plain": [
       "True"
      ]
     },
     "execution_count": 2,
     "metadata": {},
     "output_type": "execute_result"
    }
   ],
   "source": [
    "nltk.download('wordnet')\n",
    "nltk.download('stopwords')"
   ]
  },
  {
   "cell_type": "markdown",
   "metadata": {
    "id": "KtRLCsNVJrFt"
   },
   "source": [
    "## 1. LOADING DATA\n",
    "\n",
    "The data is in __JSON format__ and we need to convert it to a __dataframe__."
   ]
  },
  {
   "cell_type": "code",
   "execution_count": 3,
   "metadata": {
    "id": "puVzIf_iJrFt"
   },
   "outputs": [],
   "source": [
    "# Opening JSON file \n",
    "\n",
    "f = open('complaints-2021-05-14_08_16.json','r')\n",
    "  \n",
    "# Load the file returning JSON object as a dictionary \n",
    "\n",
    "data = json.load(f)\n",
    "\n",
    "# Convert the dictionary into a dataframe\n",
    "\n",
    "df=pd.json_normalize(data)"
   ]
  },
  {
   "cell_type": "markdown",
   "metadata": {},
   "source": [
    "## 2. DATA UNDERSTANDING"
   ]
  },
  {
   "cell_type": "code",
   "execution_count": 4,
   "metadata": {
    "scrolled": true
   },
   "outputs": [
    {
     "data": {
      "text/html": [
       "<div>\n",
       "<style scoped>\n",
       "    .dataframe tbody tr th:only-of-type {\n",
       "        vertical-align: middle;\n",
       "    }\n",
       "\n",
       "    .dataframe tbody tr th {\n",
       "        vertical-align: top;\n",
       "    }\n",
       "\n",
       "    .dataframe thead th {\n",
       "        text-align: right;\n",
       "    }\n",
       "</style>\n",
       "<table border=\"1\" class=\"dataframe\">\n",
       "  <thead>\n",
       "    <tr style=\"text-align: right;\">\n",
       "      <th></th>\n",
       "      <th>_index</th>\n",
       "      <th>_type</th>\n",
       "      <th>_id</th>\n",
       "      <th>_score</th>\n",
       "      <th>_source.tags</th>\n",
       "      <th>_source.zip_code</th>\n",
       "      <th>_source.complaint_id</th>\n",
       "      <th>_source.issue</th>\n",
       "      <th>_source.date_received</th>\n",
       "      <th>_source.state</th>\n",
       "      <th>...</th>\n",
       "      <th>_source.company_response</th>\n",
       "      <th>_source.company</th>\n",
       "      <th>_source.submitted_via</th>\n",
       "      <th>_source.date_sent_to_company</th>\n",
       "      <th>_source.company_public_response</th>\n",
       "      <th>_source.sub_product</th>\n",
       "      <th>_source.timely</th>\n",
       "      <th>_source.complaint_what_happened</th>\n",
       "      <th>_source.sub_issue</th>\n",
       "      <th>_source.consumer_consent_provided</th>\n",
       "    </tr>\n",
       "  </thead>\n",
       "  <tbody>\n",
       "    <tr>\n",
       "      <th>0</th>\n",
       "      <td>complaint-public-v2</td>\n",
       "      <td>complaint</td>\n",
       "      <td>3211475</td>\n",
       "      <td>0.0</td>\n",
       "      <td>None</td>\n",
       "      <td>90301</td>\n",
       "      <td>3211475</td>\n",
       "      <td>Attempts to collect debt not owed</td>\n",
       "      <td>2019-04-13T12:00:00-05:00</td>\n",
       "      <td>CA</td>\n",
       "      <td>...</td>\n",
       "      <td>Closed with explanation</td>\n",
       "      <td>JPMORGAN CHASE &amp; CO.</td>\n",
       "      <td>Web</td>\n",
       "      <td>2019-04-13T12:00:00-05:00</td>\n",
       "      <td>None</td>\n",
       "      <td>Credit card debt</td>\n",
       "      <td>Yes</td>\n",
       "      <td></td>\n",
       "      <td>Debt is not yours</td>\n",
       "      <td>Consent not provided</td>\n",
       "    </tr>\n",
       "    <tr>\n",
       "      <th>1</th>\n",
       "      <td>complaint-public-v2</td>\n",
       "      <td>complaint</td>\n",
       "      <td>3229299</td>\n",
       "      <td>0.0</td>\n",
       "      <td>Servicemember</td>\n",
       "      <td>319XX</td>\n",
       "      <td>3229299</td>\n",
       "      <td>Written notification about debt</td>\n",
       "      <td>2019-05-01T12:00:00-05:00</td>\n",
       "      <td>GA</td>\n",
       "      <td>...</td>\n",
       "      <td>Closed with explanation</td>\n",
       "      <td>JPMORGAN CHASE &amp; CO.</td>\n",
       "      <td>Web</td>\n",
       "      <td>2019-05-01T12:00:00-05:00</td>\n",
       "      <td>None</td>\n",
       "      <td>Credit card debt</td>\n",
       "      <td>Yes</td>\n",
       "      <td>Good morning my name is XXXX XXXX and I apprec...</td>\n",
       "      <td>Didn't receive enough information to verify debt</td>\n",
       "      <td>Consent provided</td>\n",
       "    </tr>\n",
       "    <tr>\n",
       "      <th>2</th>\n",
       "      <td>complaint-public-v2</td>\n",
       "      <td>complaint</td>\n",
       "      <td>3199379</td>\n",
       "      <td>0.0</td>\n",
       "      <td>None</td>\n",
       "      <td>77069</td>\n",
       "      <td>3199379</td>\n",
       "      <td>Other features, terms, or problems</td>\n",
       "      <td>2019-04-02T12:00:00-05:00</td>\n",
       "      <td>TX</td>\n",
       "      <td>...</td>\n",
       "      <td>Closed with explanation</td>\n",
       "      <td>JPMORGAN CHASE &amp; CO.</td>\n",
       "      <td>Web</td>\n",
       "      <td>2019-04-02T12:00:00-05:00</td>\n",
       "      <td>None</td>\n",
       "      <td>General-purpose credit card or charge card</td>\n",
       "      <td>Yes</td>\n",
       "      <td>I upgraded my XXXX XXXX card in XX/XX/2018 and...</td>\n",
       "      <td>Problem with rewards from credit card</td>\n",
       "      <td>Consent provided</td>\n",
       "    </tr>\n",
       "    <tr>\n",
       "      <th>3</th>\n",
       "      <td>complaint-public-v2</td>\n",
       "      <td>complaint</td>\n",
       "      <td>2673060</td>\n",
       "      <td>0.0</td>\n",
       "      <td>None</td>\n",
       "      <td>48066</td>\n",
       "      <td>2673060</td>\n",
       "      <td>Trouble during payment process</td>\n",
       "      <td>2017-09-13T12:00:00-05:00</td>\n",
       "      <td>MI</td>\n",
       "      <td>...</td>\n",
       "      <td>Closed with explanation</td>\n",
       "      <td>JPMORGAN CHASE &amp; CO.</td>\n",
       "      <td>Web</td>\n",
       "      <td>2017-09-14T12:00:00-05:00</td>\n",
       "      <td>None</td>\n",
       "      <td>Conventional home mortgage</td>\n",
       "      <td>Yes</td>\n",
       "      <td></td>\n",
       "      <td>None</td>\n",
       "      <td>Consent not provided</td>\n",
       "    </tr>\n",
       "    <tr>\n",
       "      <th>4</th>\n",
       "      <td>complaint-public-v2</td>\n",
       "      <td>complaint</td>\n",
       "      <td>3203545</td>\n",
       "      <td>0.0</td>\n",
       "      <td>None</td>\n",
       "      <td>10473</td>\n",
       "      <td>3203545</td>\n",
       "      <td>Fees or interest</td>\n",
       "      <td>2019-04-05T12:00:00-05:00</td>\n",
       "      <td>NY</td>\n",
       "      <td>...</td>\n",
       "      <td>Closed with explanation</td>\n",
       "      <td>JPMORGAN CHASE &amp; CO.</td>\n",
       "      <td>Referral</td>\n",
       "      <td>2019-04-05T12:00:00-05:00</td>\n",
       "      <td>None</td>\n",
       "      <td>General-purpose credit card or charge card</td>\n",
       "      <td>Yes</td>\n",
       "      <td></td>\n",
       "      <td>Charged too much interest</td>\n",
       "      <td>N/A</td>\n",
       "    </tr>\n",
       "  </tbody>\n",
       "</table>\n",
       "<p>5 rows × 22 columns</p>\n",
       "</div>"
      ],
      "text/plain": [
       "                _index      _type      _id  _score   _source.tags  \\\n",
       "0  complaint-public-v2  complaint  3211475     0.0           None   \n",
       "1  complaint-public-v2  complaint  3229299     0.0  Servicemember   \n",
       "2  complaint-public-v2  complaint  3199379     0.0           None   \n",
       "3  complaint-public-v2  complaint  2673060     0.0           None   \n",
       "4  complaint-public-v2  complaint  3203545     0.0           None   \n",
       "\n",
       "  _source.zip_code _source.complaint_id                       _source.issue  \\\n",
       "0            90301              3211475   Attempts to collect debt not owed   \n",
       "1            319XX              3229299     Written notification about debt   \n",
       "2            77069              3199379  Other features, terms, or problems   \n",
       "3            48066              2673060      Trouble during payment process   \n",
       "4            10473              3203545                    Fees or interest   \n",
       "\n",
       "       _source.date_received _source.state  ... _source.company_response  \\\n",
       "0  2019-04-13T12:00:00-05:00            CA  ...  Closed with explanation   \n",
       "1  2019-05-01T12:00:00-05:00            GA  ...  Closed with explanation   \n",
       "2  2019-04-02T12:00:00-05:00            TX  ...  Closed with explanation   \n",
       "3  2017-09-13T12:00:00-05:00            MI  ...  Closed with explanation   \n",
       "4  2019-04-05T12:00:00-05:00            NY  ...  Closed with explanation   \n",
       "\n",
       "        _source.company _source.submitted_via _source.date_sent_to_company  \\\n",
       "0  JPMORGAN CHASE & CO.                   Web    2019-04-13T12:00:00-05:00   \n",
       "1  JPMORGAN CHASE & CO.                   Web    2019-05-01T12:00:00-05:00   \n",
       "2  JPMORGAN CHASE & CO.                   Web    2019-04-02T12:00:00-05:00   \n",
       "3  JPMORGAN CHASE & CO.                   Web    2017-09-14T12:00:00-05:00   \n",
       "4  JPMORGAN CHASE & CO.              Referral    2019-04-05T12:00:00-05:00   \n",
       "\n",
       "  _source.company_public_response                         _source.sub_product  \\\n",
       "0                            None                            Credit card debt   \n",
       "1                            None                            Credit card debt   \n",
       "2                            None  General-purpose credit card or charge card   \n",
       "3                            None                  Conventional home mortgage   \n",
       "4                            None  General-purpose credit card or charge card   \n",
       "\n",
       "  _source.timely                    _source.complaint_what_happened  \\\n",
       "0            Yes                                                      \n",
       "1            Yes  Good morning my name is XXXX XXXX and I apprec...   \n",
       "2            Yes  I upgraded my XXXX XXXX card in XX/XX/2018 and...   \n",
       "3            Yes                                                      \n",
       "4            Yes                                                      \n",
       "\n",
       "                                  _source.sub_issue  \\\n",
       "0                                 Debt is not yours   \n",
       "1  Didn't receive enough information to verify debt   \n",
       "2             Problem with rewards from credit card   \n",
       "3                                              None   \n",
       "4                         Charged too much interest   \n",
       "\n",
       "  _source.consumer_consent_provided  \n",
       "0              Consent not provided  \n",
       "1                  Consent provided  \n",
       "2                  Consent provided  \n",
       "3              Consent not provided  \n",
       "4                               N/A  \n",
       "\n",
       "[5 rows x 22 columns]"
      ]
     },
     "execution_count": 4,
     "metadata": {},
     "output_type": "execute_result"
    }
   ],
   "source": [
    "# First 5 records of the dataframe\n",
    "\n",
    "df.head()"
   ]
  },
  {
   "cell_type": "code",
   "execution_count": 5,
   "metadata": {},
   "outputs": [
    {
     "data": {
      "text/plain": [
       "(78313, 22)"
      ]
     },
     "execution_count": 5,
     "metadata": {},
     "output_type": "execute_result"
    }
   ],
   "source": [
    "# Shape of the dataframe\n",
    "\n",
    "df.shape"
   ]
  },
  {
   "cell_type": "code",
   "execution_count": 6,
   "metadata": {},
   "outputs": [
    {
     "name": "stdout",
     "output_type": "stream",
     "text": [
      "<class 'pandas.core.frame.DataFrame'>\n",
      "RangeIndex: 78313 entries, 0 to 78312\n",
      "Data columns (total 22 columns):\n",
      " #   Column                             Non-Null Count  Dtype  \n",
      "---  ------                             --------------  -----  \n",
      " 0   _index                             78313 non-null  object \n",
      " 1   _type                              78313 non-null  object \n",
      " 2   _id                                78313 non-null  object \n",
      " 3   _score                             78313 non-null  float64\n",
      " 4   _source.tags                       10900 non-null  object \n",
      " 5   _source.zip_code                   71556 non-null  object \n",
      " 6   _source.complaint_id               78313 non-null  object \n",
      " 7   _source.issue                      78313 non-null  object \n",
      " 8   _source.date_received              78313 non-null  object \n",
      " 9   _source.state                      76322 non-null  object \n",
      " 10  _source.consumer_disputed          78313 non-null  object \n",
      " 11  _source.product                    78313 non-null  object \n",
      " 12  _source.company_response           78313 non-null  object \n",
      " 13  _source.company                    78313 non-null  object \n",
      " 14  _source.submitted_via              78313 non-null  object \n",
      " 15  _source.date_sent_to_company       78313 non-null  object \n",
      " 16  _source.company_public_response    4 non-null      object \n",
      " 17  _source.sub_product                67742 non-null  object \n",
      " 18  _source.timely                     78313 non-null  object \n",
      " 19  _source.complaint_what_happened    78313 non-null  object \n",
      " 20  _source.sub_issue                  32016 non-null  object \n",
      " 21  _source.consumer_consent_provided  77305 non-null  object \n",
      "dtypes: float64(1), object(21)\n",
      "memory usage: 13.1+ MB\n"
     ]
    }
   ],
   "source": [
    "# Inspect the dataframe to understand the given data\n",
    "\n",
    "df.info()"
   ]
  },
  {
   "cell_type": "markdown",
   "metadata": {},
   "source": [
    "### Initial analysis of data  :\n",
    "- Number of records : __78313__\n",
    "- Number of columns : __22__\n",
    "- __21 columns__ are of __'object'__ type and __1__ with the __'float'__ type\n",
    "- The columns __'_source.tags', '_source.zip_code', '_source.state', '_source.company_public_response', '_source.sub_product', '_source.sub_issue', '_source.consumer_consent_provided'__ have null values while other columns doesn't have any null values."
   ]
  },
  {
   "cell_type": "markdown",
   "metadata": {},
   "source": [
    "## 3. DATA PREPARATION"
   ]
  },
  {
   "cell_type": "code",
   "execution_count": 7,
   "metadata": {},
   "outputs": [
    {
     "data": {
      "text/plain": [
       "Index(['_index', '_type', '_id', '_score', '_source.tags', '_source.zip_code',\n",
       "       '_source.complaint_id', '_source.issue', '_source.date_received',\n",
       "       '_source.state', '_source.consumer_disputed', '_source.product',\n",
       "       '_source.company_response', '_source.company', '_source.submitted_via',\n",
       "       '_source.date_sent_to_company', '_source.company_public_response',\n",
       "       '_source.sub_product', '_source.timely',\n",
       "       '_source.complaint_what_happened', '_source.sub_issue',\n",
       "       '_source.consumer_consent_provided'],\n",
       "      dtype='object')"
      ]
     },
     "execution_count": 7,
     "metadata": {},
     "output_type": "execute_result"
    }
   ],
   "source": [
    "# Columns in the dataframe\n",
    "\n",
    "df.columns"
   ]
  },
  {
   "cell_type": "code",
   "execution_count": 8,
   "metadata": {},
   "outputs": [
    {
     "data": {
      "text/plain": [
       "0                                                         \n",
       "1        Good morning my name is XXXX XXXX and I apprec...\n",
       "2        I upgraded my XXXX XXXX card in XX/XX/2018 and...\n",
       "3                                                         \n",
       "4                                                         \n",
       "                               ...                        \n",
       "78308                                                     \n",
       "78309    On Wednesday, XX/XX/XXXX I called Chas, my XXX...\n",
       "78310    I am not familiar with XXXX pay and did not un...\n",
       "78311    I have had flawless credit for 30 yrs. I've ha...\n",
       "78312    Roughly 10+ years ago I closed out my accounts...\n",
       "Name: _source.complaint_what_happened, Length: 78313, dtype: object"
      ]
     },
     "execution_count": 8,
     "metadata": {},
     "output_type": "execute_result"
    }
   ],
   "source": [
    "# Customer complaints are stored in the column '_source.complaint_what_happened'\n",
    "\n",
    "df['_source.complaint_what_happened']"
   ]
  },
  {
   "cell_type": "code",
   "execution_count": 9,
   "metadata": {},
   "outputs": [
    {
     "name": "stdout",
     "output_type": "stream",
     "text": [
      "New columns of the dataframe after renaming : \n",
      "\n",
      " ['Index', 'Type', 'Id', 'Score', 'Tags', 'Zip_Code', 'Complaint_Id', 'Issue', 'Date_Received', 'State', 'Consumer_Disputed', 'Product', 'Company_Response', 'Company', 'Submitted_Via', 'Date_Sent_To_Company', 'Company_Public_Response', 'Sub_Product', 'Timely', 'Complaint_What_Happened', 'Sub_Issue', 'Consumer_Consent_Provided']\n"
     ]
    }
   ],
   "source": [
    "# Lets rename the columns for readability purpose\n",
    "\n",
    "new_cols = []\n",
    "\n",
    "for col in df.columns:\n",
    "    new_column = re.sub('_source.','',col)           \n",
    "    if(new_column[0] == '_'):\n",
    "        new_column = new_column[1:]\n",
    "    new_cols.append(new_column.title())\n",
    "    \n",
    "df.columns = new_cols\n",
    "\n",
    "print(\"New columns of the dataframe after renaming : \\n\\n\",df.columns.to_list())"
   ]
  },
  {
   "cell_type": "code",
   "execution_count": 10,
   "metadata": {},
   "outputs": [
    {
     "data": {
      "text/plain": [
       "Index                            0\n",
       "Type                             0\n",
       "Id                               0\n",
       "Score                            0\n",
       "Tags                         67413\n",
       "Zip_Code                      6757\n",
       "Complaint_Id                     0\n",
       "Issue                            0\n",
       "Date_Received                    0\n",
       "State                         1991\n",
       "Consumer_Disputed                0\n",
       "Product                          0\n",
       "Company_Response                 0\n",
       "Company                          0\n",
       "Submitted_Via                    0\n",
       "Date_Sent_To_Company             0\n",
       "Company_Public_Response      78309\n",
       "Sub_Product                  10571\n",
       "Timely                           0\n",
       "Complaint_What_Happened          0\n",
       "Sub_Issue                    46297\n",
       "Consumer_Consent_Provided     1008\n",
       "dtype: int64"
      ]
     },
     "execution_count": 10,
     "metadata": {},
     "output_type": "execute_result"
    }
   ],
   "source": [
    "# Checking counts of null values for each column \n",
    "\n",
    "df.isnull().sum()"
   ]
  },
  {
   "cell_type": "code",
   "execution_count": 11,
   "metadata": {},
   "outputs": [],
   "source": [
    "# Replacing null values with \"NAN\" in 'Complaint_What_Happened' column\n",
    "\n",
    "df['Complaint_What_Happened'] = df['Complaint_What_Happened'].replace('',\"NAN\")"
   ]
  },
  {
   "cell_type": "code",
   "execution_count": 12,
   "metadata": {},
   "outputs": [
    {
     "data": {
      "text/plain": [
       "(21072, 22)"
      ]
     },
     "execution_count": 12,
     "metadata": {},
     "output_type": "execute_result"
    }
   ],
   "source": [
    "# Lets check for the non-null records of the 'Complaint_What_Happened' column\n",
    "\n",
    "df[df['Complaint_What_Happened']!= 'NAN'].shape"
   ]
  },
  {
   "cell_type": "code",
   "execution_count": 13,
   "metadata": {},
   "outputs": [
    {
     "data": {
      "text/plain": [
       "(57241, 22)"
      ]
     },
     "execution_count": 13,
     "metadata": {},
     "output_type": "execute_result"
    }
   ],
   "source": [
    "# Lets check for the null records of the 'Complaint_What_Happened' column\n",
    "\n",
    "df[df['Complaint_What_Happened']== 'NAN'].shape"
   ]
  },
  {
   "cell_type": "code",
   "execution_count": 14,
   "metadata": {},
   "outputs": [],
   "source": [
    "# Since 57241 records doesnot contain any info regarding complaints, lets remove them from analysis\n",
    "# Include only the records which has non-null values in 'Complaint_What_Happened' column\n",
    "\n",
    "df = df[df['Complaint_What_Happened']!= 'NAN'].reset_index()\n",
    "df = df.drop(\"index\", axis = 1)"
   ]
  },
  {
   "cell_type": "code",
   "execution_count": 15,
   "metadata": {},
   "outputs": [
    {
     "data": {
      "text/plain": [
       "(21072, 22)"
      ]
     },
     "execution_count": 15,
     "metadata": {},
     "output_type": "execute_result"
    }
   ],
   "source": [
    "# Lets now check the shape of the dataframe\n",
    "\n",
    "df.shape"
   ]
  },
  {
   "cell_type": "code",
   "execution_count": 16,
   "metadata": {},
   "outputs": [
    {
     "name": "stdout",
     "output_type": "stream",
     "text": [
      "Percentage of data considered for analysis from the original file :  26.91\n"
     ]
    }
   ],
   "source": [
    "print(\"Percentage of data considered for analysis from the original file : \",round(((21072/78313)*100),2))"
   ]
  },
  {
   "cell_type": "code",
   "execution_count": 17,
   "metadata": {},
   "outputs": [
    {
     "name": "stdout",
     "output_type": "stream",
     "text": [
      "<class 'pandas.core.frame.DataFrame'>\n",
      "RangeIndex: 21072 entries, 0 to 21071\n",
      "Data columns (total 22 columns):\n",
      " #   Column                     Non-Null Count  Dtype  \n",
      "---  ------                     --------------  -----  \n",
      " 0   Index                      21072 non-null  object \n",
      " 1   Type                       21072 non-null  object \n",
      " 2   Id                         21072 non-null  object \n",
      " 3   Score                      21072 non-null  float64\n",
      " 4   Tags                       3816 non-null   object \n",
      " 5   Zip_Code                   16427 non-null  object \n",
      " 6   Complaint_Id               21072 non-null  object \n",
      " 7   Issue                      21072 non-null  object \n",
      " 8   Date_Received              21072 non-null  object \n",
      " 9   State                      20929 non-null  object \n",
      " 10  Consumer_Disputed          21072 non-null  object \n",
      " 11  Product                    21072 non-null  object \n",
      " 12  Company_Response           21072 non-null  object \n",
      " 13  Company                    21072 non-null  object \n",
      " 14  Submitted_Via              21072 non-null  object \n",
      " 15  Date_Sent_To_Company       21072 non-null  object \n",
      " 16  Company_Public_Response    2 non-null      object \n",
      " 17  Sub_Product                18963 non-null  object \n",
      " 18  Timely                     21072 non-null  object \n",
      " 19  Complaint_What_Happened    21072 non-null  object \n",
      " 20  Sub_Issue                  12896 non-null  object \n",
      " 21  Consumer_Consent_Provided  21072 non-null  object \n",
      "dtypes: float64(1), object(21)\n",
      "memory usage: 3.5+ MB\n"
     ]
    }
   ],
   "source": [
    "# Information of the dataframe\n",
    "\n",
    "df.info()"
   ]
  },
  {
   "cell_type": "code",
   "execution_count": 18,
   "metadata": {},
   "outputs": [
    {
     "data": {
      "text/html": [
       "<div>\n",
       "<style scoped>\n",
       "    .dataframe tbody tr th:only-of-type {\n",
       "        vertical-align: middle;\n",
       "    }\n",
       "\n",
       "    .dataframe tbody tr th {\n",
       "        vertical-align: top;\n",
       "    }\n",
       "\n",
       "    .dataframe thead th {\n",
       "        text-align: right;\n",
       "    }\n",
       "</style>\n",
       "<table border=\"1\" class=\"dataframe\">\n",
       "  <thead>\n",
       "    <tr style=\"text-align: right;\">\n",
       "      <th></th>\n",
       "      <th>Index</th>\n",
       "      <th>Type</th>\n",
       "      <th>Id</th>\n",
       "      <th>Score</th>\n",
       "      <th>Tags</th>\n",
       "      <th>Zip_Code</th>\n",
       "      <th>Complaint_Id</th>\n",
       "      <th>Issue</th>\n",
       "      <th>Date_Received</th>\n",
       "      <th>State</th>\n",
       "      <th>...</th>\n",
       "      <th>Company_Response</th>\n",
       "      <th>Company</th>\n",
       "      <th>Submitted_Via</th>\n",
       "      <th>Date_Sent_To_Company</th>\n",
       "      <th>Company_Public_Response</th>\n",
       "      <th>Sub_Product</th>\n",
       "      <th>Timely</th>\n",
       "      <th>Complaint_What_Happened</th>\n",
       "      <th>Sub_Issue</th>\n",
       "      <th>Consumer_Consent_Provided</th>\n",
       "    </tr>\n",
       "  </thead>\n",
       "  <tbody>\n",
       "    <tr>\n",
       "      <th>0</th>\n",
       "      <td>complaint-public-v2</td>\n",
       "      <td>complaint</td>\n",
       "      <td>3229299</td>\n",
       "      <td>0.0</td>\n",
       "      <td>Servicemember</td>\n",
       "      <td>319XX</td>\n",
       "      <td>3229299</td>\n",
       "      <td>Written notification about debt</td>\n",
       "      <td>2019-05-01T12:00:00-05:00</td>\n",
       "      <td>GA</td>\n",
       "      <td>...</td>\n",
       "      <td>Closed with explanation</td>\n",
       "      <td>JPMORGAN CHASE &amp; CO.</td>\n",
       "      <td>Web</td>\n",
       "      <td>2019-05-01T12:00:00-05:00</td>\n",
       "      <td>None</td>\n",
       "      <td>Credit card debt</td>\n",
       "      <td>Yes</td>\n",
       "      <td>Good morning my name is XXXX XXXX and I apprec...</td>\n",
       "      <td>Didn't receive enough information to verify debt</td>\n",
       "      <td>Consent provided</td>\n",
       "    </tr>\n",
       "    <tr>\n",
       "      <th>1</th>\n",
       "      <td>complaint-public-v2</td>\n",
       "      <td>complaint</td>\n",
       "      <td>3199379</td>\n",
       "      <td>0.0</td>\n",
       "      <td>None</td>\n",
       "      <td>77069</td>\n",
       "      <td>3199379</td>\n",
       "      <td>Other features, terms, or problems</td>\n",
       "      <td>2019-04-02T12:00:00-05:00</td>\n",
       "      <td>TX</td>\n",
       "      <td>...</td>\n",
       "      <td>Closed with explanation</td>\n",
       "      <td>JPMORGAN CHASE &amp; CO.</td>\n",
       "      <td>Web</td>\n",
       "      <td>2019-04-02T12:00:00-05:00</td>\n",
       "      <td>None</td>\n",
       "      <td>General-purpose credit card or charge card</td>\n",
       "      <td>Yes</td>\n",
       "      <td>I upgraded my XXXX XXXX card in XX/XX/2018 and...</td>\n",
       "      <td>Problem with rewards from credit card</td>\n",
       "      <td>Consent provided</td>\n",
       "    </tr>\n",
       "    <tr>\n",
       "      <th>2</th>\n",
       "      <td>complaint-public-v2</td>\n",
       "      <td>complaint</td>\n",
       "      <td>3233499</td>\n",
       "      <td>0.0</td>\n",
       "      <td>None</td>\n",
       "      <td>104XX</td>\n",
       "      <td>3233499</td>\n",
       "      <td>Incorrect information on your report</td>\n",
       "      <td>2019-05-06T12:00:00-05:00</td>\n",
       "      <td>NY</td>\n",
       "      <td>...</td>\n",
       "      <td>Closed with explanation</td>\n",
       "      <td>JPMORGAN CHASE &amp; CO.</td>\n",
       "      <td>Web</td>\n",
       "      <td>2019-05-06T12:00:00-05:00</td>\n",
       "      <td>None</td>\n",
       "      <td>Other personal consumer report</td>\n",
       "      <td>Yes</td>\n",
       "      <td>Chase Card was reported on XX/XX/2019. However...</td>\n",
       "      <td>Information belongs to someone else</td>\n",
       "      <td>Consent provided</td>\n",
       "    </tr>\n",
       "    <tr>\n",
       "      <th>3</th>\n",
       "      <td>complaint-public-v2</td>\n",
       "      <td>complaint</td>\n",
       "      <td>3180294</td>\n",
       "      <td>0.0</td>\n",
       "      <td>None</td>\n",
       "      <td>750XX</td>\n",
       "      <td>3180294</td>\n",
       "      <td>Incorrect information on your report</td>\n",
       "      <td>2019-03-14T12:00:00-05:00</td>\n",
       "      <td>TX</td>\n",
       "      <td>...</td>\n",
       "      <td>Closed with explanation</td>\n",
       "      <td>JPMORGAN CHASE &amp; CO.</td>\n",
       "      <td>Web</td>\n",
       "      <td>2019-03-15T12:00:00-05:00</td>\n",
       "      <td>None</td>\n",
       "      <td>Credit reporting</td>\n",
       "      <td>Yes</td>\n",
       "      <td>On XX/XX/2018, while trying to book a XXXX  XX...</td>\n",
       "      <td>Information belongs to someone else</td>\n",
       "      <td>Consent provided</td>\n",
       "    </tr>\n",
       "    <tr>\n",
       "      <th>4</th>\n",
       "      <td>complaint-public-v2</td>\n",
       "      <td>complaint</td>\n",
       "      <td>3224980</td>\n",
       "      <td>0.0</td>\n",
       "      <td>None</td>\n",
       "      <td>920XX</td>\n",
       "      <td>3224980</td>\n",
       "      <td>Managing an account</td>\n",
       "      <td>2019-04-27T12:00:00-05:00</td>\n",
       "      <td>CA</td>\n",
       "      <td>...</td>\n",
       "      <td>Closed with explanation</td>\n",
       "      <td>JPMORGAN CHASE &amp; CO.</td>\n",
       "      <td>Web</td>\n",
       "      <td>2019-04-27T12:00:00-05:00</td>\n",
       "      <td>None</td>\n",
       "      <td>Checking account</td>\n",
       "      <td>Yes</td>\n",
       "      <td>my grand son give me check for {$1600.00} i de...</td>\n",
       "      <td>Funds not handled or disbursed as instructed</td>\n",
       "      <td>Consent provided</td>\n",
       "    </tr>\n",
       "  </tbody>\n",
       "</table>\n",
       "<p>5 rows × 22 columns</p>\n",
       "</div>"
      ],
      "text/plain": [
       "                 Index       Type       Id  Score           Tags Zip_Code  \\\n",
       "0  complaint-public-v2  complaint  3229299    0.0  Servicemember    319XX   \n",
       "1  complaint-public-v2  complaint  3199379    0.0           None    77069   \n",
       "2  complaint-public-v2  complaint  3233499    0.0           None    104XX   \n",
       "3  complaint-public-v2  complaint  3180294    0.0           None    750XX   \n",
       "4  complaint-public-v2  complaint  3224980    0.0           None    920XX   \n",
       "\n",
       "  Complaint_Id                                 Issue  \\\n",
       "0      3229299       Written notification about debt   \n",
       "1      3199379    Other features, terms, or problems   \n",
       "2      3233499  Incorrect information on your report   \n",
       "3      3180294  Incorrect information on your report   \n",
       "4      3224980                   Managing an account   \n",
       "\n",
       "               Date_Received State  ...         Company_Response  \\\n",
       "0  2019-05-01T12:00:00-05:00    GA  ...  Closed with explanation   \n",
       "1  2019-04-02T12:00:00-05:00    TX  ...  Closed with explanation   \n",
       "2  2019-05-06T12:00:00-05:00    NY  ...  Closed with explanation   \n",
       "3  2019-03-14T12:00:00-05:00    TX  ...  Closed with explanation   \n",
       "4  2019-04-27T12:00:00-05:00    CA  ...  Closed with explanation   \n",
       "\n",
       "                Company Submitted_Via       Date_Sent_To_Company  \\\n",
       "0  JPMORGAN CHASE & CO.           Web  2019-05-01T12:00:00-05:00   \n",
       "1  JPMORGAN CHASE & CO.           Web  2019-04-02T12:00:00-05:00   \n",
       "2  JPMORGAN CHASE & CO.           Web  2019-05-06T12:00:00-05:00   \n",
       "3  JPMORGAN CHASE & CO.           Web  2019-03-15T12:00:00-05:00   \n",
       "4  JPMORGAN CHASE & CO.           Web  2019-04-27T12:00:00-05:00   \n",
       "\n",
       "  Company_Public_Response                                 Sub_Product Timely  \\\n",
       "0                    None                            Credit card debt    Yes   \n",
       "1                    None  General-purpose credit card or charge card    Yes   \n",
       "2                    None              Other personal consumer report    Yes   \n",
       "3                    None                            Credit reporting    Yes   \n",
       "4                    None                            Checking account    Yes   \n",
       "\n",
       "                             Complaint_What_Happened  \\\n",
       "0  Good morning my name is XXXX XXXX and I apprec...   \n",
       "1  I upgraded my XXXX XXXX card in XX/XX/2018 and...   \n",
       "2  Chase Card was reported on XX/XX/2019. However...   \n",
       "3  On XX/XX/2018, while trying to book a XXXX  XX...   \n",
       "4  my grand son give me check for {$1600.00} i de...   \n",
       "\n",
       "                                          Sub_Issue Consumer_Consent_Provided  \n",
       "0  Didn't receive enough information to verify debt          Consent provided  \n",
       "1             Problem with rewards from credit card          Consent provided  \n",
       "2               Information belongs to someone else          Consent provided  \n",
       "3               Information belongs to someone else          Consent provided  \n",
       "4      Funds not handled or disbursed as instructed          Consent provided  \n",
       "\n",
       "[5 rows x 22 columns]"
      ]
     },
     "execution_count": 18,
     "metadata": {},
     "output_type": "execute_result"
    }
   ],
   "source": [
    "# Head of the dataframe after removing empty complaint records\n",
    "\n",
    "df.head()"
   ]
  },
  {
   "cell_type": "markdown",
   "metadata": {
    "id": "L944HZpsJrFy"
   },
   "source": [
    "## 4. PREPARE THE TEXT FOR TOPIC MODELING \n",
    "\n",
    "Once we have removed all the blank complaints, we need to:\n",
    "\n",
    "* __Make the text lowercase__\n",
    "* __Remove text in square brackets__\n",
    "* __Remove punctuation__\n",
    "* __Remove words containing numbers__\n",
    "\n",
    "\n",
    "Once we have done these cleaning operations we need to perform the following:\n",
    "\n",
    "* __Lemmatize the texts__\n",
    "* __Extract the POS tags of the lemmatized text and remove all the words which have tags other than NN[tag == \"NN\"]__\n"
   ]
  },
  {
   "cell_type": "code",
   "execution_count": 19,
   "metadata": {
    "id": "qm7SjjSkJrFz"
   },
   "outputs": [],
   "source": [
    "# Function to clean the text and remove all the unnecessary elements\n",
    "\n",
    "def clean_text(complaint_data):\n",
    "    \n",
    "    # Remove new line \\n\n",
    "    complaint_data = re.sub(r'[\\n]+', '',complaint_data)\n",
    "    \n",
    "    # Make the text lower case\n",
    "    complaint_data = complaint_data.lower()\n",
    "    \n",
    "    # Remove text in square brackets\n",
    "    complaint_data = re.sub(r'\\[\\s*.*?\\s*\\]', '',complaint_data)\n",
    "    \n",
    "    # Remove words containing numbers\n",
    "    complaint_data = re.sub(r'[a-zA-Z]+\\d+\\w*|\\d+[a-zA-Z]+\\w*', '',complaint_data)\n",
    "    \n",
    "    # Remove punctuation\n",
    "    complaint_data = re.sub(r'[!,:;\\'\"`?\\-_{}\\(\\)\\\\/]+', '',complaint_data)\n",
    "    \n",
    "    # Remove '.' only at the end of sentences \n",
    "    # For example, '.' in '1000.00' has a meaning unlike the normal period(.)\n",
    "    # So it is important to retain this meaning in the input text\n",
    "    \n",
    "    complaint_data = re.sub(r'(\\.+\\s)+', ' ',complaint_data)\n",
    "    \n",
    "    complaint_data = re.sub(r'[.]$', '',complaint_data)   \n",
    "    \n",
    "    return complaint_data\n",
    "    "
   ]
  },
  {
   "cell_type": "code",
   "execution_count": 20,
   "metadata": {},
   "outputs": [
    {
     "data": {
      "application/vnd.jupyter.widget-view+json": {
       "model_id": "c61d1b46782b4641a8be51792f33ce4f",
       "version_major": 2,
       "version_minor": 0
      },
      "text/plain": [
       "Pandas Apply:   0%|          | 0/21072 [00:00<?, ?it/s]"
      ]
     },
     "metadata": {},
     "output_type": "display_data"
    }
   ],
   "source": [
    "# Clean the text present in the 'Complaint_What_Happened' column and store the cleaned text in the 'Complaints' column\n",
    "\n",
    "df['Cleaned_Complaint_Text'] = df.swifter.apply(lambda x : clean_text(x['Complaint_What_Happened']), axis = 1)"
   ]
  },
  {
   "cell_type": "code",
   "execution_count": 21,
   "metadata": {
    "scrolled": false
   },
   "outputs": [
    {
     "name": "stdout",
     "output_type": "stream",
     "text": [
      "Uncleaned Text : \n",
      " I was a victim of online fraud. I reported an unauthorized purchase for {$3300.00} on XX/XX/19 through XXXX to Chase Bank because the money was taken from my debit card account. I have messages of me asking the seller to cancel the order, the seller never answered back and sent me an empty package. I filled up a police report. I sent the police report, pictures of the package ( I also have a video of me opening the package ) and screenshots of the messages to Chase bank. However, they refused to give me that refund because they said that they had \" evidence, '' I asked them to send it to me. I received a letter and the evidence they found was the tracking number. I had the tracking number from the beginning, but that is not evidence of anything. I did not purchase that computer on XXXX, and I also received an empty package. The pseudo company of XXXX is called \" XXXX. '' Someone signed for that package, and it was not me or someone I know. The address they wrote was also different to my address. The seller ( XXXX ) is doing something completely illegal. My money was supposed to be safe there, but it was not. The bank is not helping me and instead is giving the money to a criminal.\n",
      "\n",
      "Cleaned Text : \n",
      " i was a victim of online fraud i reported an unauthorized purchase for $3300.00 on xxxx19 through xxxx to chase bank because the money was taken from my debit card account i have messages of me asking the seller to cancel the order the seller never answered back and sent me an empty package i filled up a police report i sent the police report pictures of the package  i also have a video of me opening the package  and screenshots of the messages to chase bank however they refused to give me that refund because they said that they had  evidence  i asked them to send it to me i received a letter and the evidence they found was the tracking number i had the tracking number from the beginning but that is not evidence of anything i did not purchase that computer on xxxx and i also received an empty package the pseudo company of xxxx is called  xxxx  someone signed for that package and it was not me or someone i know the address they wrote was also different to my address the seller  xxxx  is doing something completely illegal my money was supposed to be safe there but it was not the bank is not helping me and instead is giving the money to a criminal\n"
     ]
    }
   ],
   "source": [
    "# Sample of uncleaned and cleaned text\n",
    "\n",
    "print(\"Uncleaned Text : \\n\",df['Complaint_What_Happened'][147])\n",
    "print(\"\\nCleaned Text : \\n\",df['Cleaned_Complaint_Text'][147])"
   ]
  },
  {
   "cell_type": "code",
   "execution_count": 22,
   "metadata": {
    "id": "zgOu8t8HJrFz"
   },
   "outputs": [],
   "source": [
    "# Function to Lemmatize the texts\n",
    "\n",
    "def lemmatize_text(complaint_data):\n",
    "    \n",
    "    tokens = word_tokenize(complaint_data)\n",
    "    wordnet_lemmatizer = WordNetLemmatizer()\n",
    "    complaint_lemma = [wordnet_lemmatizer.lemmatize(token) for token in tokens]\n",
    "    complaint_lemma_str = \" \".join(complaint_lemma)\n",
    "    \n",
    "    return complaint_lemma_str"
   ]
  },
  {
   "cell_type": "code",
   "execution_count": 23,
   "metadata": {},
   "outputs": [
    {
     "data": {
      "application/vnd.jupyter.widget-view+json": {
       "model_id": "1ab6e66ef53e4d979665178b0063f341",
       "version_major": 2,
       "version_minor": 0
      },
      "text/plain": [
       "Pandas Apply:   0%|          | 0/21072 [00:00<?, ?it/s]"
      ]
     },
     "metadata": {},
     "output_type": "display_data"
    }
   ],
   "source": [
    "# Lemmatize the cleaned data using 'lemmatize_text' function\n",
    "    \n",
    "df['Lemmatized_Complaint'] = df.swifter.apply(lambda x: lemmatize_text(x['Cleaned_Complaint_Text']), axis=1)"
   ]
  },
  {
   "cell_type": "code",
   "execution_count": 24,
   "metadata": {},
   "outputs": [
    {
     "name": "stdout",
     "output_type": "stream",
     "text": [
      "Cleaned Text : \n",
      " i purchased a refrigerator on a store credit card i mistakenly decided that i would use my ability to use cash advance to pay off another credit card to transfer the store card balance to my chase mc that offered no interest for 12 months i payed the xxxx  process  fee i should have had a red flag then i have paid on my balance for 6 months now and have no discernable difference in the balance of the transferred to 0 percent apr balance i called them about this and i have never had such a go around the bush explanation for why this is happening once xxxx get s here ill be paying major interest on this purchase more than if i had left it on the store card this is a sham of a way to get you in a spiral upward issue with interest on one s credit card i am at this point just going to pay all but xxxx of the balance and be done with this completely by xxxx and not use the chase card again even for my amazon xxxx unless i can pay off within the month i certainly will never use a convenience checkcash advance on this card this type of usury should be outlawed or the cfpb do something about this is akin to payday loans\n",
      "\n",
      "Lemmatized Text : \n",
      " i purchased a refrigerator on a store credit card i mistakenly decided that i would use my ability to use cash advance to pay off another credit card to transfer the store card balance to my chase mc that offered no interest for 12 month i payed the xxxx process fee i should have had a red flag then i have paid on my balance for 6 month now and have no discernable difference in the balance of the transferred to 0 percent apr balance i called them about this and i have never had such a go around the bush explanation for why this is happening once xxxx get s here ill be paying major interest on this purchase more than if i had left it on the store card this is a sham of a way to get you in a spiral upward issue with interest on one s credit card i am at this point just going to pay all but xxxx of the balance and be done with this completely by xxxx and not use the chase card again even for my amazon xxxx unless i can pay off within the month i certainly will never use a convenience checkcash advance on this card this type of usury should be outlawed or the cfpb do something about this is akin to payday loan\n"
     ]
    }
   ],
   "source": [
    "# Sample of cleaned text and its lemma\n",
    "\n",
    "print(\"Cleaned Text : \\n\", df['Cleaned_Complaint_Text'][140])\n",
    "print(\"\\nLemmatized Text : \\n\", df['Lemmatized_Complaint'][140])"
   ]
  },
  {
   "cell_type": "code",
   "execution_count": 25,
   "metadata": {
    "id": "uXnN7aa_JrF0"
   },
   "outputs": [
    {
     "data": {
      "text/html": [
       "<div>\n",
       "<style scoped>\n",
       "    .dataframe tbody tr th:only-of-type {\n",
       "        vertical-align: middle;\n",
       "    }\n",
       "\n",
       "    .dataframe tbody tr th {\n",
       "        vertical-align: top;\n",
       "    }\n",
       "\n",
       "    .dataframe thead th {\n",
       "        text-align: right;\n",
       "    }\n",
       "</style>\n",
       "<table border=\"1\" class=\"dataframe\">\n",
       "  <thead>\n",
       "    <tr style=\"text-align: right;\">\n",
       "      <th></th>\n",
       "      <th>Cleaned_Complaint_Text</th>\n",
       "      <th>Lemmatized_Complaint</th>\n",
       "    </tr>\n",
       "  </thead>\n",
       "  <tbody>\n",
       "    <tr>\n",
       "      <th>0</th>\n",
       "      <td>good morning my name is xxxx xxxx and i apprec...</td>\n",
       "      <td>good morning my name is xxxx xxxx and i apprec...</td>\n",
       "    </tr>\n",
       "    <tr>\n",
       "      <th>1</th>\n",
       "      <td>i upgraded my xxxx xxxx card in xxxx2018 and w...</td>\n",
       "      <td>i upgraded my xxxx xxxx card in xxxx2018 and w...</td>\n",
       "    </tr>\n",
       "    <tr>\n",
       "      <th>2</th>\n",
       "      <td>chase card was reported on xxxx2019 however fr...</td>\n",
       "      <td>chase card wa reported on xxxx2019 however fra...</td>\n",
       "    </tr>\n",
       "    <tr>\n",
       "      <th>3</th>\n",
       "      <td>on xxxx2018 while trying to book a xxxx  xxxx ...</td>\n",
       "      <td>on xxxx2018 while trying to book a xxxx xxxx t...</td>\n",
       "    </tr>\n",
       "    <tr>\n",
       "      <th>4</th>\n",
       "      <td>my grand son give me check for $1600.00 i depo...</td>\n",
       "      <td>my grand son give me check for $ 1600.00 i dep...</td>\n",
       "    </tr>\n",
       "    <tr>\n",
       "      <th>...</th>\n",
       "      <td>...</td>\n",
       "      <td>...</td>\n",
       "    </tr>\n",
       "    <tr>\n",
       "      <th>21067</th>\n",
       "      <td>after being a chase card customer for well ove...</td>\n",
       "      <td>after being a chase card customer for well ove...</td>\n",
       "    </tr>\n",
       "    <tr>\n",
       "      <th>21068</th>\n",
       "      <td>on wednesday xxxxxxxx i called chas my xxxx xx...</td>\n",
       "      <td>on wednesday xxxxxxxx i called chas my xxxx xx...</td>\n",
       "    </tr>\n",
       "    <tr>\n",
       "      <th>21069</th>\n",
       "      <td>i am not familiar with xxxx pay and did not un...</td>\n",
       "      <td>i am not familiar with xxxx pay and did not un...</td>\n",
       "    </tr>\n",
       "    <tr>\n",
       "      <th>21070</th>\n",
       "      <td>i have had flawless credit for 30 yrs ive had ...</td>\n",
       "      <td>i have had flawless credit for 30 yr ive had c...</td>\n",
       "    </tr>\n",
       "    <tr>\n",
       "      <th>21071</th>\n",
       "      <td>roughly 10+ years ago i closed out my accounts...</td>\n",
       "      <td>roughly 10+ year ago i closed out my account w...</td>\n",
       "    </tr>\n",
       "  </tbody>\n",
       "</table>\n",
       "<p>21072 rows × 2 columns</p>\n",
       "</div>"
      ],
      "text/plain": [
       "                                  Cleaned_Complaint_Text  \\\n",
       "0      good morning my name is xxxx xxxx and i apprec...   \n",
       "1      i upgraded my xxxx xxxx card in xxxx2018 and w...   \n",
       "2      chase card was reported on xxxx2019 however fr...   \n",
       "3      on xxxx2018 while trying to book a xxxx  xxxx ...   \n",
       "4      my grand son give me check for $1600.00 i depo...   \n",
       "...                                                  ...   \n",
       "21067  after being a chase card customer for well ove...   \n",
       "21068  on wednesday xxxxxxxx i called chas my xxxx xx...   \n",
       "21069  i am not familiar with xxxx pay and did not un...   \n",
       "21070  i have had flawless credit for 30 yrs ive had ...   \n",
       "21071  roughly 10+ years ago i closed out my accounts...   \n",
       "\n",
       "                                    Lemmatized_Complaint  \n",
       "0      good morning my name is xxxx xxxx and i apprec...  \n",
       "1      i upgraded my xxxx xxxx card in xxxx2018 and w...  \n",
       "2      chase card wa reported on xxxx2019 however fra...  \n",
       "3      on xxxx2018 while trying to book a xxxx xxxx t...  \n",
       "4      my grand son give me check for $ 1600.00 i dep...  \n",
       "...                                                  ...  \n",
       "21067  after being a chase card customer for well ove...  \n",
       "21068  on wednesday xxxxxxxx i called chas my xxxx xx...  \n",
       "21069  i am not familiar with xxxx pay and did not un...  \n",
       "21070  i have had flawless credit for 30 yr ive had c...  \n",
       "21071  roughly 10+ year ago i closed out my account w...  \n",
       "\n",
       "[21072 rows x 2 columns]"
      ]
     },
     "execution_count": 25,
     "metadata": {},
     "output_type": "execute_result"
    }
   ],
   "source": [
    "# Creating a dataframe('df_clean') that will have only the complaints and the lemmatized complaints \n",
    "\n",
    "df_clean = pd.DataFrame({'Cleaned_Complaint_Text' : df['Cleaned_Complaint_Text'], \n",
    "                         'Lemmatized_Complaint' : df['Lemmatized_Complaint'] })\n",
    "df_clean"
   ]
  },
  {
   "cell_type": "code",
   "execution_count": 26,
   "metadata": {
    "id": "Kk7fc4DuJrF1"
   },
   "outputs": [],
   "source": [
    "# Function to extract the POS tags \n",
    "\n",
    "def pos_tag(text):\n",
    "    \n",
    "    lemma_text = []\n",
    "    tokens = nlp(text)\n",
    "    for token in tokens:\n",
    "        if(token.tag_ == 'NN'):\n",
    "            lemma_text.append(token.lemma_)\n",
    "    lemma_text_str = \" \".join(lemma_text)\n",
    "    \n",
    "    return lemma_text_str"
   ]
  },
  {
   "cell_type": "code",
   "execution_count": 27,
   "metadata": {},
   "outputs": [
    {
     "data": {
      "application/vnd.jupyter.widget-view+json": {
       "model_id": "22e806e6b69543c89d6287437b657877",
       "version_major": 2,
       "version_minor": 0
      },
      "text/plain": [
       "Pandas Apply:   0%|          | 0/21072 [00:00<?, ?it/s]"
      ]
     },
     "metadata": {},
     "output_type": "display_data"
    }
   ],
   "source": [
    "# 'Complaint_POS_removed' column contains lemmatized text with all the words removed having tags other than NN[tag == \"NN\"]\n",
    "\n",
    "df_clean[\"Complaint_POS_removed\"] = df_clean.swifter.apply(lambda x: pos_tag(x['Lemmatized_Complaint']), axis=1)"
   ]
  },
  {
   "cell_type": "code",
   "execution_count": 28,
   "metadata": {
    "id": "AjxfchvFJrF2"
   },
   "outputs": [
    {
     "data": {
      "text/html": [
       "<div>\n",
       "<style scoped>\n",
       "    .dataframe tbody tr th:only-of-type {\n",
       "        vertical-align: middle;\n",
       "    }\n",
       "\n",
       "    .dataframe tbody tr th {\n",
       "        vertical-align: top;\n",
       "    }\n",
       "\n",
       "    .dataframe thead th {\n",
       "        text-align: right;\n",
       "    }\n",
       "</style>\n",
       "<table border=\"1\" class=\"dataframe\">\n",
       "  <thead>\n",
       "    <tr style=\"text-align: right;\">\n",
       "      <th></th>\n",
       "      <th>Cleaned_Complaint_Text</th>\n",
       "      <th>Lemmatized_Complaint</th>\n",
       "      <th>Complaint_POS_removed</th>\n",
       "    </tr>\n",
       "  </thead>\n",
       "  <tbody>\n",
       "    <tr>\n",
       "      <th>0</th>\n",
       "      <td>good morning my name is xxxx xxxx and i apprec...</td>\n",
       "      <td>good morning my name is xxxx xxxx and i apprec...</td>\n",
       "      <td>morning name stop service debt verification st...</td>\n",
       "    </tr>\n",
       "    <tr>\n",
       "      <th>1</th>\n",
       "      <td>i upgraded my xxxx xxxx card in xxxx2018 and w...</td>\n",
       "      <td>i upgraded my xxxx xxxx card in xxxx2018 and w...</td>\n",
       "      <td>agent anniversary date agent information order...</td>\n",
       "    </tr>\n",
       "    <tr>\n",
       "      <th>2</th>\n",
       "      <td>chase card was reported on xxxx2019 however fr...</td>\n",
       "      <td>chase card wa reported on xxxx2019 however fra...</td>\n",
       "      <td>chase card application identity consent servic...</td>\n",
       "    </tr>\n",
       "    <tr>\n",
       "      <th>3</th>\n",
       "      <td>on xxxx2018 while trying to book a xxxx  xxxx ...</td>\n",
       "      <td>on xxxx2018 while trying to book a xxxx xxxx t...</td>\n",
       "      <td>ticket offer ticket reward card information of...</td>\n",
       "    </tr>\n",
       "    <tr>\n",
       "      <th>4</th>\n",
       "      <td>my grand son give me check for $1600.00 i depo...</td>\n",
       "      <td>my grand son give me check for $ 1600.00 i dep...</td>\n",
       "      <td>son check chase account fund chase bank accoun...</td>\n",
       "    </tr>\n",
       "    <tr>\n",
       "      <th>...</th>\n",
       "      <td>...</td>\n",
       "      <td>...</td>\n",
       "      <td>...</td>\n",
       "    </tr>\n",
       "    <tr>\n",
       "      <th>21067</th>\n",
       "      <td>after being a chase card customer for well ove...</td>\n",
       "      <td>after being a chase card customer for well ove...</td>\n",
       "      <td>chase card customer decade solicitation credit...</td>\n",
       "    </tr>\n",
       "    <tr>\n",
       "      <th>21068</th>\n",
       "      <td>on wednesday xxxxxxxx i called chas my xxxx xx...</td>\n",
       "      <td>on wednesday xxxxxxxx i called chas my xxxx xx...</td>\n",
       "      <td>credit card provider claim purchase protection...</td>\n",
       "    </tr>\n",
       "    <tr>\n",
       "      <th>21069</th>\n",
       "      <td>i am not familiar with xxxx pay and did not un...</td>\n",
       "      <td>i am not familiar with xxxx pay and did not un...</td>\n",
       "      <td>pay risk consumer chase bank app chase year ba...</td>\n",
       "    </tr>\n",
       "    <tr>\n",
       "      <th>21070</th>\n",
       "      <td>i have had flawless credit for 30 yrs ive had ...</td>\n",
       "      <td>i have had flawless credit for 30 yr ive had c...</td>\n",
       "      <td>credit yr chase credit card chase freedom prob...</td>\n",
       "    </tr>\n",
       "    <tr>\n",
       "      <th>21071</th>\n",
       "      <td>roughly 10+ years ago i closed out my accounts...</td>\n",
       "      <td>roughly 10+ year ago i closed out my account w...</td>\n",
       "      <td>year account order line credit account payment...</td>\n",
       "    </tr>\n",
       "  </tbody>\n",
       "</table>\n",
       "<p>21072 rows × 3 columns</p>\n",
       "</div>"
      ],
      "text/plain": [
       "                                  Cleaned_Complaint_Text  \\\n",
       "0      good morning my name is xxxx xxxx and i apprec...   \n",
       "1      i upgraded my xxxx xxxx card in xxxx2018 and w...   \n",
       "2      chase card was reported on xxxx2019 however fr...   \n",
       "3      on xxxx2018 while trying to book a xxxx  xxxx ...   \n",
       "4      my grand son give me check for $1600.00 i depo...   \n",
       "...                                                  ...   \n",
       "21067  after being a chase card customer for well ove...   \n",
       "21068  on wednesday xxxxxxxx i called chas my xxxx xx...   \n",
       "21069  i am not familiar with xxxx pay and did not un...   \n",
       "21070  i have had flawless credit for 30 yrs ive had ...   \n",
       "21071  roughly 10+ years ago i closed out my accounts...   \n",
       "\n",
       "                                    Lemmatized_Complaint  \\\n",
       "0      good morning my name is xxxx xxxx and i apprec...   \n",
       "1      i upgraded my xxxx xxxx card in xxxx2018 and w...   \n",
       "2      chase card wa reported on xxxx2019 however fra...   \n",
       "3      on xxxx2018 while trying to book a xxxx xxxx t...   \n",
       "4      my grand son give me check for $ 1600.00 i dep...   \n",
       "...                                                  ...   \n",
       "21067  after being a chase card customer for well ove...   \n",
       "21068  on wednesday xxxxxxxx i called chas my xxxx xx...   \n",
       "21069  i am not familiar with xxxx pay and did not un...   \n",
       "21070  i have had flawless credit for 30 yr ive had c...   \n",
       "21071  roughly 10+ year ago i closed out my account w...   \n",
       "\n",
       "                                   Complaint_POS_removed  \n",
       "0      morning name stop service debt verification st...  \n",
       "1      agent anniversary date agent information order...  \n",
       "2      chase card application identity consent servic...  \n",
       "3      ticket offer ticket reward card information of...  \n",
       "4      son check chase account fund chase bank accoun...  \n",
       "...                                                  ...  \n",
       "21067  chase card customer decade solicitation credit...  \n",
       "21068  credit card provider claim purchase protection...  \n",
       "21069  pay risk consumer chase bank app chase year ba...  \n",
       "21070  credit yr chase credit card chase freedom prob...  \n",
       "21071  year account order line credit account payment...  \n",
       "\n",
       "[21072 rows x 3 columns]"
      ]
     },
     "execution_count": 28,
     "metadata": {},
     "output_type": "execute_result"
    }
   ],
   "source": [
    "# 'df_clean' dataframe now contains the cleaned complaints, lemmatized complaints and the complaints after removing POS tags\n",
    "\n",
    "df_clean"
   ]
  },
  {
   "cell_type": "markdown",
   "metadata": {
    "id": "_7Un1AElJrF2"
   },
   "source": [
    "## 5. EXPLORATORY DATA ANALYSIS (EDA)\n",
    "\n",
    "Write the code in this task to perform the following:\n",
    "\n",
    "*   Visualise the data according to the 'Complaint' character length\n",
    "*   Using a word cloud find the top 40 words by frequency among all the articles after processing the text\n",
    "*   Find the top unigrams,bigrams and trigrams by frequency among all the complaints after processing the text"
   ]
  },
  {
   "cell_type": "code",
   "execution_count": 29,
   "metadata": {
    "id": "q-zaqJF6JrF2"
   },
   "outputs": [
    {
     "data": {
      "image/png": "[encoded data removed]",
      "text/plain": [
       "<Figure size 432x288 with 1 Axes>"
      ]
     },
     "metadata": {
      "needs_background": "light"
     },
     "output_type": "display_data"
    }
   ],
   "source": [
    "# Lets visualise the data according to the 'Complaint' character length\n",
    "\n",
    "df['Complaint_What_Happened'].str.len().hist()\n",
    "\n",
    "plt.xlabel(\"Character length of the Complaint\")\n",
    "plt.ylabel(\"No.of Complaints\")\n",
    "\n",
    "plt.show()"
   ]
  },
  {
   "cell_type": "markdown",
   "metadata": {},
   "source": [
    "#### Inference : \n",
    "- It is evident that most of the complaints have character length of around 2700 to 3000 and a few complaints have character length of around 3000 to 6000."
   ]
  },
  {
   "cell_type": "code",
   "execution_count": 30,
   "metadata": {
    "id": "QcfdvtfZJrF3",
    "scrolled": true
   },
   "outputs": [
    {
     "data": {
      "text/plain": [
       "<Figure size 432x288 with 0 Axes>"
      ]
     },
     "metadata": {},
     "output_type": "display_data"
    },
    {
     "data": {
      "image/png": "[encoded data removed]",
      "text/plain": [
       "<Figure size 720x720 with 1 Axes>"
      ]
     },
     "metadata": {
      "needs_background": "light"
     },
     "output_type": "display_data"
    }
   ],
   "source": [
    "# Using a word cloud to find the top 40 words by frequency among all the articles after processing the text\n",
    "\n",
    "stops = set(stopwords.words('english'))\n",
    "wc = WordCloud(stopwords =stops , max_words=40).generate(' '.join(df['Cleaned_Complaint_Text']))\n",
    "fig = plt.figure(1)\n",
    "plt.figure(figsize=(10, 10))\n",
    "plt.imshow(wc)\n",
    "plt.axis('off')\n",
    "plt.show()"
   ]
  },
  {
   "cell_type": "code",
   "execution_count": 31,
   "metadata": {
    "id": "OkSmc3UaJrF4"
   },
   "outputs": [],
   "source": [
    "# Removing -PRON- from the text corpus\n",
    "\n",
    "df_clean['Complaint_clean'] = df_clean['Complaint_POS_removed'].str.replace('-PRON-', '')"
   ]
  },
  {
   "cell_type": "markdown",
   "metadata": {
    "id": "yUXzFji0JrF_"
   },
   "source": [
    "#### The personal details of customer has been masked in the dataset with xxxx. Let's remove the masked text as this will be of no use for our analysis."
   ]
  },
  {
   "cell_type": "code",
   "execution_count": 32,
   "metadata": {
    "id": "wKda-a_IJrF_"
   },
   "outputs": [],
   "source": [
    "df['Cleaned_Complaint_Text'] = df['Cleaned_Complaint_Text'].str.replace('xx+', '',regex=True)\n",
    "\n",
    "for col in df_clean.columns:\n",
    "    df_clean[col] = df_clean[col].str.replace('xx+','',regex=True)"
   ]
  },
  {
   "cell_type": "code",
   "execution_count": 33,
   "metadata": {},
   "outputs": [
    {
     "data": {
      "text/plain": [
       "<Figure size 432x288 with 0 Axes>"
      ]
     },
     "metadata": {},
     "output_type": "display_data"
    },
    {
     "data": {
      "image/png": "[encoded data removed]",
      "text/plain": [
       "<Figure size 720x720 with 1 Axes>"
      ]
     },
     "metadata": {
      "needs_background": "light"
     },
     "output_type": "display_data"
    }
   ],
   "source": [
    "# Now lets use word cloud to find the top 40 words by frequency among all the articles after removing masked text\n",
    "\n",
    "stops = set(stopwords.words('english'))\n",
    "wc = WordCloud(stopwords =stops , max_words=40).generate(' '.join(df_clean['Complaint_clean']))\n",
    "fig = plt.figure(1)\n",
    "plt.figure(figsize=(10, 10))\n",
    "plt.imshow(wc)\n",
    "plt.axis('off')\n",
    "plt.show()"
   ]
  },
  {
   "cell_type": "markdown",
   "metadata": {
    "id": "5DfCSbbmJrF4"
   },
   "source": [
    "#### Find the top unigrams,bigrams and trigrams by frequency among all the complaints after processing the text"
   ]
  },
  {
   "cell_type": "code",
   "execution_count": 34,
   "metadata": {
    "id": "5mbk5DS5JrF4"
   },
   "outputs": [],
   "source": [
    "# Function to find the n-gram frequency among the complaints in the cleaned datafram(df_clean)\n",
    "\n",
    "def n_gram_freq(n):\n",
    "    stops = set(stopwords.words('english'))\n",
    "    corpus = df_clean['Complaint_clean']\n",
    "    vec = CountVectorizer(stop_words=stops, ngram_range=(n,n)).fit(corpus)\n",
    "    bow = vec.transform(corpus)\n",
    "    sum_words = bow.sum(axis=0)\n",
    "    words_freq = [(word, sum_words[0, idx]) for word, idx in vec.vocabulary_.items()]\n",
    "    words_freq = sorted(words_freq, key = lambda x: x[1], reverse=True)\n",
    "    return words_freq"
   ]
  },
  {
   "cell_type": "code",
   "execution_count": 35,
   "metadata": {},
   "outputs": [
    {
     "data": {
      "text/plain": [
       "[('chase', 62179),\n",
       " ('account', 46233),\n",
       " ('credit', 32208),\n",
       " ('card', 29912),\n",
       " ('payment', 21091),\n",
       " ('bank', 17992),\n",
       " ('time', 16015),\n",
       " ('day', 12865),\n",
       " ('charge', 11963),\n",
       " ('money', 11957),\n",
       " ('loan', 10796),\n",
       " ('check', 10148),\n",
       " ('information', 9635),\n",
       " ('letter', 9582),\n",
       " ('fee', 8872),\n",
       " ('number', 8597),\n",
       " ('transaction', 8497),\n",
       " ('month', 8452),\n",
       " ('amount', 8337),\n",
       " ('year', 8223),\n",
       " ('customer', 8043),\n",
       " ('mortgage', 7939),\n",
       " ('balance', 7697),\n",
       " ('company', 7510),\n",
       " ('phone', 7485),\n",
       " ('service', 7338),\n",
       " ('report', 6893),\n",
       " ('fund', 6863),\n",
       " ('claim', 6687),\n",
       " ('fraud', 6633)]"
      ]
     },
     "execution_count": 35,
     "metadata": {},
     "output_type": "execute_result"
    }
   ],
   "source": [
    "# Top 30 unigram frequency among the complaints in the cleaned dataframe(df_clean)\n",
    "\n",
    "words_freq_uni = n_gram_freq(1)\n",
    "words_freq_uni[:30]"
   ]
  },
  {
   "cell_type": "code",
   "execution_count": 36,
   "metadata": {
    "id": "YX7fedm1JrF8"
   },
   "outputs": [
    {
     "name": "stdout",
     "output_type": "stream",
     "text": [
      "\n",
      "Top 10 words in the unigram frequency : \n",
      "\n",
      " [('chase', 62179), ('account', 46233), ('credit', 32208), ('card', 29912), ('payment', 21091), ('bank', 17992), ('time', 16015), ('day', 12865), ('charge', 11963), ('money', 11957)]\n"
     ]
    }
   ],
   "source": [
    "# Top 10 words in the unigram frequency\n",
    "\n",
    "print(\"\\nTop 10 words in the unigram frequency : \\n\\n\", words_freq_uni[:10])"
   ]
  },
  {
   "cell_type": "code",
   "execution_count": 37,
   "metadata": {},
   "outputs": [
    {
     "data": {
      "text/html": [
       "<div>\n",
       "<style scoped>\n",
       "    .dataframe tbody tr th:only-of-type {\n",
       "        vertical-align: middle;\n",
       "    }\n",
       "\n",
       "    .dataframe tbody tr th {\n",
       "        vertical-align: top;\n",
       "    }\n",
       "\n",
       "    .dataframe thead th {\n",
       "        text-align: right;\n",
       "    }\n",
       "</style>\n",
       "<table border=\"1\" class=\"dataframe\">\n",
       "  <thead>\n",
       "    <tr style=\"text-align: right;\">\n",
       "      <th></th>\n",
       "      <th>Frequency</th>\n",
       "    </tr>\n",
       "    <tr>\n",
       "      <th>Unigram Words</th>\n",
       "      <th></th>\n",
       "    </tr>\n",
       "  </thead>\n",
       "  <tbody>\n",
       "    <tr>\n",
       "      <th>chase</th>\n",
       "      <td>62179</td>\n",
       "    </tr>\n",
       "    <tr>\n",
       "      <th>account</th>\n",
       "      <td>46233</td>\n",
       "    </tr>\n",
       "    <tr>\n",
       "      <th>credit</th>\n",
       "      <td>32208</td>\n",
       "    </tr>\n",
       "    <tr>\n",
       "      <th>card</th>\n",
       "      <td>29912</td>\n",
       "    </tr>\n",
       "    <tr>\n",
       "      <th>payment</th>\n",
       "      <td>21091</td>\n",
       "    </tr>\n",
       "  </tbody>\n",
       "</table>\n",
       "</div>"
      ],
      "text/plain": [
       "               Frequency\n",
       "Unigram Words           \n",
       "chase              62179\n",
       "account            46233\n",
       "credit             32208\n",
       "card               29912\n",
       "payment            21091"
      ]
     },
     "execution_count": 37,
     "metadata": {},
     "output_type": "execute_result"
    }
   ],
   "source": [
    "# Create a dataframe for unigram words\n",
    "\n",
    "unigram_words_df = pd.DataFrame(words_freq_uni, columns =['Unigram Words', 'Frequency'])\n",
    "unigram_words_df = unigram_words_df.set_index('Unigram Words')\n",
    "\n",
    "unigram_words_df.head()"
   ]
  },
  {
   "cell_type": "code",
   "execution_count": 38,
   "metadata": {},
   "outputs": [
    {
     "data": {
      "image/png": "[encoded data removed]",
      "text/plain": [
       "<Figure size 1080x360 with 1 Axes>"
      ]
     },
     "metadata": {
      "needs_background": "light"
     },
     "output_type": "display_data"
    }
   ],
   "source": [
    "# Lets visualise the bar plot of top 30 unigram words\n",
    "\n",
    "unigram_words_df[:30].plot(kind='bar', xlabel= \"Unigram Words\", ylabel= \"Frequency of words\", figsize=(15,5), fontsize=10)\n",
    "plt.show()"
   ]
  },
  {
   "cell_type": "code",
   "execution_count": 39,
   "metadata": {
    "id": "aV7kD7w8JrF8"
   },
   "outputs": [
    {
     "data": {
      "text/plain": [
       "[('credit card', 12605),\n",
       " ('credit report', 3794),\n",
       " ('account chase', 3626),\n",
       " ('chase credit', 3552),\n",
       " ('checking account', 3406),\n",
       " ('chase bank', 3020),\n",
       " ('chase account', 2990),\n",
       " ('customer service', 2955),\n",
       " ('account account', 2575),\n",
       " ('bank account', 2201),\n",
       " ('debit card', 1992),\n",
       " ('card chase', 1966),\n",
       " ('chase card', 1855),\n",
       " ('credit score', 1710),\n",
       " ('card account', 1696),\n",
       " ('phone call', 1630),\n",
       " ('payment payment', 1557),\n",
       " ('account credit', 1529),\n",
       " ('chase chase', 1449),\n",
       " ('money account', 1402),\n",
       " ('letter chase', 1364),\n",
       " ('chase customer', 1332),\n",
       " ('interest rate', 1295),\n",
       " ('phone number', 1248),\n",
       " ('payment chase', 1223),\n",
       " ('business day', 1206),\n",
       " ('card card', 1198),\n",
       " ('account number', 1174),\n",
       " ('credit bureau', 1164),\n",
       " ('card company', 1132)]"
      ]
     },
     "execution_count": 39,
     "metadata": {},
     "output_type": "execute_result"
    }
   ],
   "source": [
    "# Top 30 bigram frequency among the complaints in the cleaned dataframe(df_clean)\n",
    "\n",
    "words_freq_bi = n_gram_freq(2)\n",
    "words_freq_bi[:30]"
   ]
  },
  {
   "cell_type": "code",
   "execution_count": 40,
   "metadata": {
    "id": "NPnMNIpyJrF9"
   },
   "outputs": [
    {
     "name": "stdout",
     "output_type": "stream",
     "text": [
      "\n",
      "Top 10 words in the bigram frequency : \n",
      "\n",
      " [('credit card', 12605), ('credit report', 3794), ('account chase', 3626), ('chase credit', 3552), ('checking account', 3406), ('chase bank', 3020), ('chase account', 2990), ('customer service', 2955), ('account account', 2575), ('bank account', 2201)]\n"
     ]
    }
   ],
   "source": [
    "# Top 10 words in the bigram frequency\n",
    "\n",
    "print(\"\\nTop 10 words in the bigram frequency : \\n\\n\", words_freq_bi[:10])"
   ]
  },
  {
   "cell_type": "code",
   "execution_count": 41,
   "metadata": {},
   "outputs": [
    {
     "data": {
      "text/html": [
       "<div>\n",
       "<style scoped>\n",
       "    .dataframe tbody tr th:only-of-type {\n",
       "        vertical-align: middle;\n",
       "    }\n",
       "\n",
       "    .dataframe tbody tr th {\n",
       "        vertical-align: top;\n",
       "    }\n",
       "\n",
       "    .dataframe thead th {\n",
       "        text-align: right;\n",
       "    }\n",
       "</style>\n",
       "<table border=\"1\" class=\"dataframe\">\n",
       "  <thead>\n",
       "    <tr style=\"text-align: right;\">\n",
       "      <th></th>\n",
       "      <th>Frequency of words</th>\n",
       "    </tr>\n",
       "    <tr>\n",
       "      <th>Bigram Words occuring together</th>\n",
       "      <th></th>\n",
       "    </tr>\n",
       "  </thead>\n",
       "  <tbody>\n",
       "    <tr>\n",
       "      <th>credit card</th>\n",
       "      <td>12605</td>\n",
       "    </tr>\n",
       "    <tr>\n",
       "      <th>credit report</th>\n",
       "      <td>3794</td>\n",
       "    </tr>\n",
       "    <tr>\n",
       "      <th>account chase</th>\n",
       "      <td>3626</td>\n",
       "    </tr>\n",
       "    <tr>\n",
       "      <th>chase credit</th>\n",
       "      <td>3552</td>\n",
       "    </tr>\n",
       "    <tr>\n",
       "      <th>checking account</th>\n",
       "      <td>3406</td>\n",
       "    </tr>\n",
       "  </tbody>\n",
       "</table>\n",
       "</div>"
      ],
      "text/plain": [
       "                                Frequency of words\n",
       "Bigram Words occuring together                    \n",
       "credit card                                  12605\n",
       "credit report                                 3794\n",
       "account chase                                 3626\n",
       "chase credit                                  3552\n",
       "checking account                              3406"
      ]
     },
     "execution_count": 41,
     "metadata": {},
     "output_type": "execute_result"
    }
   ],
   "source": [
    "# Create a dataframe for bigram words\n",
    "\n",
    "bigram_words_df = pd.DataFrame(words_freq_bi, columns =['Bigram Words occuring together', 'Frequency of words'])\n",
    "bigram_words_df = bigram_words_df.set_index('Bigram Words occuring together')\n",
    "\n",
    "bigram_words_df.head()"
   ]
  },
  {
   "cell_type": "code",
   "execution_count": 42,
   "metadata": {},
   "outputs": [
    {
     "data": {
      "image/png": "[encoded data removed]",
      "text/plain": [
       "<Figure size 1080x360 with 1 Axes>"
      ]
     },
     "metadata": {
      "needs_background": "light"
     },
     "output_type": "display_data"
    }
   ],
   "source": [
    "# Lets visualise the bar plot of top 30 bigram words\n",
    "\n",
    "bigram_words_df[:30].plot(kind='bar', xlabel= \"Bigram Words occuring together\", ylabel= \"Frequency of words\", \n",
    "                          figsize=(15,5), fontsize=10)\n",
    "plt.show()"
   ]
  },
  {
   "cell_type": "code",
   "execution_count": 43,
   "metadata": {
    "id": "Xkh7vtbtJrF-"
   },
   "outputs": [
    {
     "data": {
      "text/plain": [
       "[('chase credit card', 2440),\n",
       " ('credit card account', 1051),\n",
       " ('credit card company', 986),\n",
       " ('credit card chase', 869),\n",
       " ('chase customer service', 590),\n",
       " ('credit card credit', 544),\n",
       " ('inquiry credit report', 541),\n",
       " ('chase checking account', 512),\n",
       " ('card credit card', 436),\n",
       " ('account credit card', 430),\n",
       " ('checking account chase', 399),\n",
       " ('charge credit card', 364),\n",
       " ('credit report credit', 363),\n",
       " ('customer service representative', 341),\n",
       " ('account chase account', 333),\n",
       " ('credit reporting act', 328),\n",
       " ('chase bank account', 324),\n",
       " ('account credit report', 324),\n",
       " ('credit card payment', 319),\n",
       " ('credit report chase', 273),\n",
       " ('credit card card', 272),\n",
       " ('credit card balance', 272),\n",
       " ('chase auto finance', 266),\n",
       " ('chase card service', 257),\n",
       " ('victim identity theft', 252),\n",
       " ('payment credit card', 242),\n",
       " ('chase account chase', 241),\n",
       " ('credit card charge', 239),\n",
       " ('phone call chase', 235),\n",
       " ('freedom credit card', 229)]"
      ]
     },
     "execution_count": 43,
     "metadata": {},
     "output_type": "execute_result"
    }
   ],
   "source": [
    "# Top 30 trigram frequency among the complaints in the cleaned dataframe(df_clean)\n",
    "\n",
    "words_freq_tri = n_gram_freq(3)\n",
    "words_freq_tri[:30]"
   ]
  },
  {
   "cell_type": "code",
   "execution_count": 44,
   "metadata": {
    "id": "REcVxNfvJrF-"
   },
   "outputs": [
    {
     "name": "stdout",
     "output_type": "stream",
     "text": [
      "\n",
      "Top 10 words in the trigram frequency : \n",
      "\n",
      " [('chase credit card', 2440), ('credit card account', 1051), ('credit card company', 986), ('credit card chase', 869), ('chase customer service', 590), ('credit card credit', 544), ('inquiry credit report', 541), ('chase checking account', 512), ('card credit card', 436), ('account credit card', 430)]\n"
     ]
    }
   ],
   "source": [
    "# Top 10 words in the trigram frequency\n",
    "\n",
    "print(\"\\nTop 10 words in the trigram frequency : \\n\\n\", words_freq_tri[:10])"
   ]
  },
  {
   "cell_type": "code",
   "execution_count": 45,
   "metadata": {},
   "outputs": [
    {
     "data": {
      "text/html": [
       "<div>\n",
       "<style scoped>\n",
       "    .dataframe tbody tr th:only-of-type {\n",
       "        vertical-align: middle;\n",
       "    }\n",
       "\n",
       "    .dataframe tbody tr th {\n",
       "        vertical-align: top;\n",
       "    }\n",
       "\n",
       "    .dataframe thead th {\n",
       "        text-align: right;\n",
       "    }\n",
       "</style>\n",
       "<table border=\"1\" class=\"dataframe\">\n",
       "  <thead>\n",
       "    <tr style=\"text-align: right;\">\n",
       "      <th></th>\n",
       "      <th>Frequency of words</th>\n",
       "    </tr>\n",
       "    <tr>\n",
       "      <th>Trigram Words occuring together</th>\n",
       "      <th></th>\n",
       "    </tr>\n",
       "  </thead>\n",
       "  <tbody>\n",
       "    <tr>\n",
       "      <th>chase credit card</th>\n",
       "      <td>2440</td>\n",
       "    </tr>\n",
       "    <tr>\n",
       "      <th>credit card account</th>\n",
       "      <td>1051</td>\n",
       "    </tr>\n",
       "    <tr>\n",
       "      <th>credit card company</th>\n",
       "      <td>986</td>\n",
       "    </tr>\n",
       "    <tr>\n",
       "      <th>credit card chase</th>\n",
       "      <td>869</td>\n",
       "    </tr>\n",
       "    <tr>\n",
       "      <th>chase customer service</th>\n",
       "      <td>590</td>\n",
       "    </tr>\n",
       "  </tbody>\n",
       "</table>\n",
       "</div>"
      ],
      "text/plain": [
       "                                 Frequency of words\n",
       "Trigram Words occuring together                    \n",
       "chase credit card                              2440\n",
       "credit card account                            1051\n",
       "credit card company                             986\n",
       "credit card chase                               869\n",
       "chase customer service                          590"
      ]
     },
     "execution_count": 45,
     "metadata": {},
     "output_type": "execute_result"
    }
   ],
   "source": [
    "# Create a dataframe for trigram words\n",
    "\n",
    "trigram_words_df = pd.DataFrame(words_freq_tri, columns =['Trigram Words occuring together', 'Frequency of words'])\n",
    "trigram_words_df = trigram_words_df.set_index('Trigram Words occuring together')\n",
    "\n",
    "trigram_words_df.head()"
   ]
  },
  {
   "cell_type": "code",
   "execution_count": 46,
   "metadata": {},
   "outputs": [
    {
     "data": {
      "image/png": "[encoded data removed]",
      "text/plain": [
       "<Figure size 1080x360 with 1 Axes>"
      ]
     },
     "metadata": {
      "needs_background": "light"
     },
     "output_type": "display_data"
    }
   ],
   "source": [
    "# Lets visualise the bar plot of top 30 trigram words\n",
    "\n",
    "trigram_words_df[:30].plot(kind='bar', xlabel= \"Trigram Words occuring together\", ylabel= \"Frequency of words\", \n",
    "                          figsize=(15,5), fontsize=10)\n",
    "plt.show()"
   ]
  },
  {
   "cell_type": "code",
   "execution_count": 47,
   "metadata": {
    "id": "9UIFk8fQJrF_"
   },
   "outputs": [
    {
     "data": {
      "text/html": [
       "<div>\n",
       "<style scoped>\n",
       "    .dataframe tbody tr th:only-of-type {\n",
       "        vertical-align: middle;\n",
       "    }\n",
       "\n",
       "    .dataframe tbody tr th {\n",
       "        vertical-align: top;\n",
       "    }\n",
       "\n",
       "    .dataframe thead th {\n",
       "        text-align: right;\n",
       "    }\n",
       "</style>\n",
       "<table border=\"1\" class=\"dataframe\">\n",
       "  <thead>\n",
       "    <tr style=\"text-align: right;\">\n",
       "      <th></th>\n",
       "      <th>Cleaned_Complaint_Text</th>\n",
       "      <th>Lemmatized_Complaint</th>\n",
       "      <th>Complaint_POS_removed</th>\n",
       "      <th>Complaint_clean</th>\n",
       "    </tr>\n",
       "  </thead>\n",
       "  <tbody>\n",
       "    <tr>\n",
       "      <th>0</th>\n",
       "      <td>good morning my name is   and i appreciate it ...</td>\n",
       "      <td>good morning my name is   and i appreciate it ...</td>\n",
       "      <td>morning name stop service debt verification st...</td>\n",
       "      <td>morning name stop service debt verification st...</td>\n",
       "    </tr>\n",
       "    <tr>\n",
       "      <th>1</th>\n",
       "      <td>i upgraded my   card in 2018 and was told by t...</td>\n",
       "      <td>i upgraded my   card in 2018 and wa told by th...</td>\n",
       "      <td>agent anniversary date agent information order...</td>\n",
       "      <td>agent anniversary date agent information order...</td>\n",
       "    </tr>\n",
       "    <tr>\n",
       "      <th>2</th>\n",
       "      <td>chase card was reported on 2019 however fraudu...</td>\n",
       "      <td>chase card wa reported on 2019 however fraudul...</td>\n",
       "      <td>chase card application identity consent servic...</td>\n",
       "      <td>chase card application identity consent servic...</td>\n",
       "    </tr>\n",
       "    <tr>\n",
       "      <th>3</th>\n",
       "      <td>on 2018 while trying to book a     ticket i ca...</td>\n",
       "      <td>on 2018 while trying to book a   ticket i came...</td>\n",
       "      <td>ticket offer ticket reward card information of...</td>\n",
       "      <td>ticket offer ticket reward card information of...</td>\n",
       "    </tr>\n",
       "    <tr>\n",
       "      <th>4</th>\n",
       "      <td>my grand son give me check for $1600.00 i depo...</td>\n",
       "      <td>my grand son give me check for $ 1600.00 i dep...</td>\n",
       "      <td>son check chase account fund chase bank accoun...</td>\n",
       "      <td>son check chase account fund chase bank accoun...</td>\n",
       "    </tr>\n",
       "    <tr>\n",
       "      <th>...</th>\n",
       "      <td>...</td>\n",
       "      <td>...</td>\n",
       "      <td>...</td>\n",
       "      <td>...</td>\n",
       "    </tr>\n",
       "    <tr>\n",
       "      <th>21067</th>\n",
       "      <td>after being a chase card customer for well ove...</td>\n",
       "      <td>after being a chase card customer for well ove...</td>\n",
       "      <td>chase card customer decade solicitation credit...</td>\n",
       "      <td>chase card customer decade solicitation credit...</td>\n",
       "    </tr>\n",
       "    <tr>\n",
       "      <th>21068</th>\n",
       "      <td>on wednesday  i called chas my   visa credit c...</td>\n",
       "      <td>on wednesday  i called chas my   visa credit c...</td>\n",
       "      <td>credit card provider claim purchase protection...</td>\n",
       "      <td>credit card provider claim purchase protection...</td>\n",
       "    </tr>\n",
       "    <tr>\n",
       "      <th>21069</th>\n",
       "      <td>i am not familiar with  pay and did not unders...</td>\n",
       "      <td>i am not familiar with  pay and did not unders...</td>\n",
       "      <td>pay risk consumer chase bank app chase year ba...</td>\n",
       "      <td>pay risk consumer chase bank app chase year ba...</td>\n",
       "    </tr>\n",
       "    <tr>\n",
       "      <th>21070</th>\n",
       "      <td>i have had flawless credit for 30 yrs ive had ...</td>\n",
       "      <td>i have had flawless credit for 30 yr ive had c...</td>\n",
       "      <td>credit yr chase credit card chase freedom prob...</td>\n",
       "      <td>credit yr chase credit card chase freedom prob...</td>\n",
       "    </tr>\n",
       "    <tr>\n",
       "      <th>21071</th>\n",
       "      <td>roughly 10+ years ago i closed out my accounts...</td>\n",
       "      <td>roughly 10+ year ago i closed out my account w...</td>\n",
       "      <td>year account order line credit account payment...</td>\n",
       "      <td>year account order line credit account payment...</td>\n",
       "    </tr>\n",
       "  </tbody>\n",
       "</table>\n",
       "<p>21072 rows × 4 columns</p>\n",
       "</div>"
      ],
      "text/plain": [
       "                                  Cleaned_Complaint_Text  \\\n",
       "0      good morning my name is   and i appreciate it ...   \n",
       "1      i upgraded my   card in 2018 and was told by t...   \n",
       "2      chase card was reported on 2019 however fraudu...   \n",
       "3      on 2018 while trying to book a     ticket i ca...   \n",
       "4      my grand son give me check for $1600.00 i depo...   \n",
       "...                                                  ...   \n",
       "21067  after being a chase card customer for well ove...   \n",
       "21068  on wednesday  i called chas my   visa credit c...   \n",
       "21069  i am not familiar with  pay and did not unders...   \n",
       "21070  i have had flawless credit for 30 yrs ive had ...   \n",
       "21071  roughly 10+ years ago i closed out my accounts...   \n",
       "\n",
       "                                    Lemmatized_Complaint  \\\n",
       "0      good morning my name is   and i appreciate it ...   \n",
       "1      i upgraded my   card in 2018 and wa told by th...   \n",
       "2      chase card wa reported on 2019 however fraudul...   \n",
       "3      on 2018 while trying to book a   ticket i came...   \n",
       "4      my grand son give me check for $ 1600.00 i dep...   \n",
       "...                                                  ...   \n",
       "21067  after being a chase card customer for well ove...   \n",
       "21068  on wednesday  i called chas my   visa credit c...   \n",
       "21069  i am not familiar with  pay and did not unders...   \n",
       "21070  i have had flawless credit for 30 yr ive had c...   \n",
       "21071  roughly 10+ year ago i closed out my account w...   \n",
       "\n",
       "                                   Complaint_POS_removed  \\\n",
       "0      morning name stop service debt verification st...   \n",
       "1      agent anniversary date agent information order...   \n",
       "2      chase card application identity consent servic...   \n",
       "3      ticket offer ticket reward card information of...   \n",
       "4      son check chase account fund chase bank accoun...   \n",
       "...                                                  ...   \n",
       "21067  chase card customer decade solicitation credit...   \n",
       "21068  credit card provider claim purchase protection...   \n",
       "21069  pay risk consumer chase bank app chase year ba...   \n",
       "21070  credit yr chase credit card chase freedom prob...   \n",
       "21071  year account order line credit account payment...   \n",
       "\n",
       "                                         Complaint_clean  \n",
       "0      morning name stop service debt verification st...  \n",
       "1      agent anniversary date agent information order...  \n",
       "2      chase card application identity consent servic...  \n",
       "3      ticket offer ticket reward card information of...  \n",
       "4      son check chase account fund chase bank accoun...  \n",
       "...                                                  ...  \n",
       "21067  chase card customer decade solicitation credit...  \n",
       "21068  credit card provider claim purchase protection...  \n",
       "21069  pay risk consumer chase bank app chase year ba...  \n",
       "21070  credit yr chase credit card chase freedom prob...  \n",
       "21071  year account order line credit account payment...  \n",
       "\n",
       "[21072 rows x 4 columns]"
      ]
     },
     "execution_count": 47,
     "metadata": {},
     "output_type": "execute_result"
    }
   ],
   "source": [
    "# All masked texts has been removed\n",
    "\n",
    "df_clean"
   ]
  },
  {
   "cell_type": "markdown",
   "metadata": {
    "id": "k-I0k0QtJrGA"
   },
   "source": [
    "## 6. FEATURE EXTRACTION\n",
    "Convert the raw texts to a __matrix of TF-IDF features__\n",
    "\n",
    "**max_df** is used for removing terms that appear too frequently, also known as \"corpus-specific stop words\"\n",
    "max_df = 0.95 means \"ignore terms that appear in more than 95% of the complaints\"\n",
    "\n",
    "**min_df** is used for removing terms that appear too infrequently\n",
    "min_df = 2 means \"ignore terms that appear in less than 2 complaints\""
   ]
  },
  {
   "cell_type": "code",
   "execution_count": 48,
   "metadata": {
    "id": "Y8fGwaCPJrGA"
   },
   "outputs": [],
   "source": [
    "# Code to initialise the TF-IDF Vectorizer \n",
    "\n",
    "tfidf_vectorizer = TfidfVectorizer(\n",
    "    stop_words = 'english',\n",
    "    min_df = 2,\n",
    "    max_df = 0.95,\n",
    ")"
   ]
  },
  {
   "cell_type": "markdown",
   "metadata": {
    "id": "yYzD85nTJrGA"
   },
   "source": [
    "#### Create a document term matrix using fit_transform\n",
    "\n",
    "The contents of a document term matrix are tuples of (complaint_id,token_id) tf-idf score:\n",
    "The tuples that are not there have a tf-idf score of 0."
   ]
  },
  {
   "cell_type": "code",
   "execution_count": 49,
   "metadata": {
    "id": "ffzdDpp_JrGB"
   },
   "outputs": [
    {
     "data": {
      "text/html": [
       "<div>\n",
       "<style scoped>\n",
       "    .dataframe tbody tr th:only-of-type {\n",
       "        vertical-align: middle;\n",
       "    }\n",
       "\n",
       "    .dataframe tbody tr th {\n",
       "        vertical-align: top;\n",
       "    }\n",
       "\n",
       "    .dataframe thead th {\n",
       "        text-align: right;\n",
       "    }\n",
       "</style>\n",
       "<table border=\"1\" class=\"dataframe\">\n",
       "  <thead>\n",
       "    <tr style=\"text-align: right;\">\n",
       "      <th></th>\n",
       "      <th>10</th>\n",
       "      <th>1099misc</th>\n",
       "      <th>10day</th>\n",
       "      <th>11</th>\n",
       "      <th>12</th>\n",
       "      <th>14</th>\n",
       "      <th>15</th>\n",
       "      <th>15year</th>\n",
       "      <th>16</th>\n",
       "      <th>17</th>\n",
       "      <th>...</th>\n",
       "      <th>yield</th>\n",
       "      <th>yoga</th>\n",
       "      <th>youth</th>\n",
       "      <th>yr</th>\n",
       "      <th>ytd</th>\n",
       "      <th>zilch</th>\n",
       "      <th>zip</th>\n",
       "      <th>zipcode</th>\n",
       "      <th>zombie</th>\n",
       "      <th>zone</th>\n",
       "    </tr>\n",
       "  </thead>\n",
       "  <tbody>\n",
       "    <tr>\n",
       "      <th>0</th>\n",
       "      <td>0.0</td>\n",
       "      <td>0.0</td>\n",
       "      <td>0.0</td>\n",
       "      <td>0.0</td>\n",
       "      <td>0.0</td>\n",
       "      <td>0.0</td>\n",
       "      <td>0.0</td>\n",
       "      <td>0.0</td>\n",
       "      <td>0.0</td>\n",
       "      <td>0.0</td>\n",
       "      <td>...</td>\n",
       "      <td>0.0</td>\n",
       "      <td>0.0</td>\n",
       "      <td>0.0</td>\n",
       "      <td>0.0</td>\n",
       "      <td>0.0</td>\n",
       "      <td>0.0</td>\n",
       "      <td>0.0</td>\n",
       "      <td>0.0</td>\n",
       "      <td>0.0</td>\n",
       "      <td>0.0</td>\n",
       "    </tr>\n",
       "    <tr>\n",
       "      <th>1</th>\n",
       "      <td>0.0</td>\n",
       "      <td>0.0</td>\n",
       "      <td>0.0</td>\n",
       "      <td>0.0</td>\n",
       "      <td>0.0</td>\n",
       "      <td>0.0</td>\n",
       "      <td>0.0</td>\n",
       "      <td>0.0</td>\n",
       "      <td>0.0</td>\n",
       "      <td>0.0</td>\n",
       "      <td>...</td>\n",
       "      <td>0.0</td>\n",
       "      <td>0.0</td>\n",
       "      <td>0.0</td>\n",
       "      <td>0.0</td>\n",
       "      <td>0.0</td>\n",
       "      <td>0.0</td>\n",
       "      <td>0.0</td>\n",
       "      <td>0.0</td>\n",
       "      <td>0.0</td>\n",
       "      <td>0.0</td>\n",
       "    </tr>\n",
       "    <tr>\n",
       "      <th>2</th>\n",
       "      <td>0.0</td>\n",
       "      <td>0.0</td>\n",
       "      <td>0.0</td>\n",
       "      <td>0.0</td>\n",
       "      <td>0.0</td>\n",
       "      <td>0.0</td>\n",
       "      <td>0.0</td>\n",
       "      <td>0.0</td>\n",
       "      <td>0.0</td>\n",
       "      <td>0.0</td>\n",
       "      <td>...</td>\n",
       "      <td>0.0</td>\n",
       "      <td>0.0</td>\n",
       "      <td>0.0</td>\n",
       "      <td>0.0</td>\n",
       "      <td>0.0</td>\n",
       "      <td>0.0</td>\n",
       "      <td>0.0</td>\n",
       "      <td>0.0</td>\n",
       "      <td>0.0</td>\n",
       "      <td>0.0</td>\n",
       "    </tr>\n",
       "    <tr>\n",
       "      <th>3</th>\n",
       "      <td>0.0</td>\n",
       "      <td>0.0</td>\n",
       "      <td>0.0</td>\n",
       "      <td>0.0</td>\n",
       "      <td>0.0</td>\n",
       "      <td>0.0</td>\n",
       "      <td>0.0</td>\n",
       "      <td>0.0</td>\n",
       "      <td>0.0</td>\n",
       "      <td>0.0</td>\n",
       "      <td>...</td>\n",
       "      <td>0.0</td>\n",
       "      <td>0.0</td>\n",
       "      <td>0.0</td>\n",
       "      <td>0.0</td>\n",
       "      <td>0.0</td>\n",
       "      <td>0.0</td>\n",
       "      <td>0.0</td>\n",
       "      <td>0.0</td>\n",
       "      <td>0.0</td>\n",
       "      <td>0.0</td>\n",
       "    </tr>\n",
       "    <tr>\n",
       "      <th>4</th>\n",
       "      <td>0.0</td>\n",
       "      <td>0.0</td>\n",
       "      <td>0.0</td>\n",
       "      <td>0.0</td>\n",
       "      <td>0.0</td>\n",
       "      <td>0.0</td>\n",
       "      <td>0.0</td>\n",
       "      <td>0.0</td>\n",
       "      <td>0.0</td>\n",
       "      <td>0.0</td>\n",
       "      <td>...</td>\n",
       "      <td>0.0</td>\n",
       "      <td>0.0</td>\n",
       "      <td>0.0</td>\n",
       "      <td>0.0</td>\n",
       "      <td>0.0</td>\n",
       "      <td>0.0</td>\n",
       "      <td>0.0</td>\n",
       "      <td>0.0</td>\n",
       "      <td>0.0</td>\n",
       "      <td>0.0</td>\n",
       "    </tr>\n",
       "  </tbody>\n",
       "</table>\n",
       "<p>5 rows × 6042 columns</p>\n",
       "</div>"
      ],
      "text/plain": [
       "    10  1099misc  10day   11   12   14   15  15year   16   17  ...  yield  \\\n",
       "0  0.0       0.0    0.0  0.0  0.0  0.0  0.0     0.0  0.0  0.0  ...    0.0   \n",
       "1  0.0       0.0    0.0  0.0  0.0  0.0  0.0     0.0  0.0  0.0  ...    0.0   \n",
       "2  0.0       0.0    0.0  0.0  0.0  0.0  0.0     0.0  0.0  0.0  ...    0.0   \n",
       "3  0.0       0.0    0.0  0.0  0.0  0.0  0.0     0.0  0.0  0.0  ...    0.0   \n",
       "4  0.0       0.0    0.0  0.0  0.0  0.0  0.0     0.0  0.0  0.0  ...    0.0   \n",
       "\n",
       "   yoga  youth   yr  ytd  zilch  zip  zipcode  zombie  zone  \n",
       "0   0.0    0.0  0.0  0.0    0.0  0.0      0.0     0.0   0.0  \n",
       "1   0.0    0.0  0.0  0.0    0.0  0.0      0.0     0.0   0.0  \n",
       "2   0.0    0.0  0.0  0.0    0.0  0.0      0.0     0.0   0.0  \n",
       "3   0.0    0.0  0.0  0.0    0.0  0.0      0.0     0.0   0.0  \n",
       "4   0.0    0.0  0.0  0.0    0.0  0.0      0.0     0.0   0.0  \n",
       "\n",
       "[5 rows x 6042 columns]"
      ]
     },
     "execution_count": 49,
     "metadata": {},
     "output_type": "execute_result"
    }
   ],
   "source": [
    "# Code to create the Document Term Matrix by transforming the 'Complaint_clean' column present in df_clean\n",
    "\n",
    "tfidf = tfidf_vectorizer.fit_transform(df_clean['Complaint_clean'])\n",
    "features = tfidf_vectorizer.get_feature_names()\n",
    "\n",
    "# Creating a dataframe to display the document-term matrix\n",
    "\n",
    "tfidf_df = pd.DataFrame(tfidf.toarray(), columns = features)\n",
    "tfidf_df.head()"
   ]
  },
  {
   "cell_type": "code",
   "execution_count": 50,
   "metadata": {},
   "outputs": [
    {
     "data": {
      "text/plain": [
       "(21072, 6042)"
      ]
     },
     "execution_count": 50,
     "metadata": {},
     "output_type": "execute_result"
    }
   ],
   "source": [
    "# Shape of the tfidf_df dataframe \n",
    "\n",
    "tfidf_df.shape"
   ]
  },
  {
   "cell_type": "markdown",
   "metadata": {
    "id": "7Q9lwvNEJrGB"
   },
   "source": [
    "## 7. TOPIC MODELING USING NMF\n",
    "\n",
    "Non-Negative Matrix Factorization (NMF) is an unsupervised technique so there are no labeling of topics that the model will be trained on. The way it works is that, NMF decomposes (or factorizes) __high-dimensional vectors__ into a __lower-dimensional representation__. These lower-dimensional vectors are __non-negative__ which also means their coefficients are __non-negative__.\n",
    "\n",
    "In this task you have to perform the following:\n",
    "\n",
    "* __Find the best number of clusters__\n",
    "* __Apply the best number to create word clusters__\n",
    "* __Inspect & validate the correction of each cluster wrt the complaints__\n",
    "* __Correct the labels if needed__ \n",
    "* __Map the clusters to topics/cluster names__"
   ]
  },
  {
   "cell_type": "markdown",
   "metadata": {
    "id": "0wYR1xUTJrGD"
   },
   "source": [
    "## Manual Topic Modeling\n",
    "We need to do take the trial & error approach to find the best num of topics for our NMF model.\n",
    "\n",
    "The only parameter that is required is the number of components i.e. the number of topics we want. This is the most crucial step in the whole topic modeling process and will greatly affect how good our final topics are."
   ]
  },
  {
   "cell_type": "code",
   "execution_count": 51,
   "metadata": {
    "id": "sgd2A6bhJrGD"
   },
   "outputs": [],
   "source": [
    "# Load nmf_model with n_components = 5\n",
    "\n",
    "num_topics = 5\n",
    "\n",
    "# Keeping the random_state = 40\n",
    "\n",
    "nmf_model = NMF(random_state=40, n_components=num_topics)"
   ]
  },
  {
   "cell_type": "code",
   "execution_count": 52,
   "metadata": {
    "id": "VPMDYbt_JrGE"
   },
   "outputs": [
    {
     "data": {
      "text/plain": [
       "6042"
      ]
     },
     "execution_count": 52,
     "metadata": {},
     "output_type": "execute_result"
    }
   ],
   "source": [
    "# Fit the nmf model\n",
    "\n",
    "nmf_model.fit(tfidf)\n",
    "H = nmf_model.components_  \n",
    "\n",
    "# Number of features extracted\n",
    "\n",
    "len(tfidf_vectorizer.get_feature_names())"
   ]
  },
  {
   "cell_type": "code",
   "execution_count": 53,
   "metadata": {
    "id": "16kRfat5JrGE"
   },
   "outputs": [],
   "source": [
    "# Function to print the top 'n' words for each of the topics\n",
    "\n",
    "def print_top_n_words(n):\n",
    "\n",
    "    words = np.array(tfidf_vectorizer.get_feature_names())\n",
    "    topic_words = pd.DataFrame(np.zeros((num_topics, n)), index=[f'Topic {i}' for i in range(num_topics)],\n",
    "                               columns=[f'Word {i + 1}' for i in range(n)]).astype(str)\n",
    "    for i in range(num_topics):\n",
    "        ix = H[i].argsort()[::-1][:n]\n",
    "        topic_words.iloc[i] = words[ix]\n",
    "\n",
    "    return topic_words"
   ]
  },
  {
   "cell_type": "code",
   "execution_count": 54,
   "metadata": {},
   "outputs": [
    {
     "name": "stdout",
     "output_type": "stream",
     "text": [
      "Top 15 words for each of the topics : \n",
      "\n",
      "              Topic 0      Topic 1    Topic 2      Topic 3       Topic 4\n",
      "Word 1       account         card    payment       credit          loan\n",
      "Word 2         check       charge    balance       report      mortgage\n",
      "Word 3          bank        chase        fee      inquiry         chase\n",
      "Word 4         money       credit      month         card          home\n",
      "Word 5         chase      dispute  statement      account  modification\n",
      "Word 6          fund     purchase        day        score      property\n",
      "Word 7      checking  transaction       time       bureau          year\n",
      "Word 8           day        fraud     credit      company        letter\n",
      "Word 9       deposit      service      chase         debt          time\n",
      "Word 10       branch     merchant       date  information      document\n",
      "Word 11  transaction         time       auto    reporting          rate\n",
      "Word 12       number          fee       year     identity   foreclosure\n",
      "Word 13          fee      balance    account  application         house\n",
      "Word 14     business      company      error        theft          sale\n",
      "Word 15        claim     customer        car        limit   information\n"
     ]
    }
   ],
   "source": [
    "# lets see the top 15 words for each of the topics\n",
    "\n",
    "topic_words_15 = print_top_n_words(15)\n",
    "print(\"Top 15 words for each of the topics : \\n\\n\", topic_words_15.T)"
   ]
  },
  {
   "cell_type": "code",
   "execution_count": 55,
   "metadata": {},
   "outputs": [
    {
     "name": "stdout",
     "output_type": "stream",
     "text": [
      "Top 30 words for each of the topics : \n",
      "\n",
      "              Topic 0         Topic 1         Topic 2        Topic 3  \\\n",
      "Word 1       account            card         payment         credit   \n",
      "Word 2         check          charge         balance         report   \n",
      "Word 3          bank           chase             fee        inquiry   \n",
      "Word 4         money          credit           month           card   \n",
      "Word 5         chase         dispute       statement        account   \n",
      "Word 6          fund        purchase             day          score   \n",
      "Word 7      checking     transaction            time         bureau   \n",
      "Word 8           day           fraud          credit        company   \n",
      "Word 9       deposit         service           chase           debt   \n",
      "Word 10       branch        merchant            date    information   \n",
      "Word 11  transaction            time            auto      reporting   \n",
      "Word 12       number             fee            year       identity   \n",
      "Word 13          fee         balance         account    application   \n",
      "Word 14     business         company           error          theft   \n",
      "Word 15        claim        customer             car          limit   \n",
      "Word 16     customer       statement        mortgage         letter   \n",
      "Word 17        fraud          letter         history           file   \n",
      "Word 18         time           month            plan         agency   \n",
      "Word 19  information           phone           issue       creditor   \n",
      "Word 20     transfer           claim             pay        history   \n",
      "Word 21       reason           email          bureau           year   \n",
      "Word 22        phone          number  representative      knowledge   \n",
      "Word 23    overdraft           point            bank          chase   \n",
      "Word 24          atm           debit       principal            act   \n",
      "Word 25       person          refund          option  authorization   \n",
      "Word 26      balance            visa        customer         victim   \n",
      "Word 27        debit             day          period       consumer   \n",
      "Word 28       access           offer          escrow          proof   \n",
      "Word 29      manager     information              wa   verification   \n",
      "Word 30      service  representative           lease     collection   \n",
      "\n",
      "              Topic 4  \n",
      "Word 1           loan  \n",
      "Word 2       mortgage  \n",
      "Word 3          chase  \n",
      "Word 4           home  \n",
      "Word 5   modification  \n",
      "Word 6       property  \n",
      "Word 7           year  \n",
      "Word 8         letter  \n",
      "Word 9           time  \n",
      "Word 10      document  \n",
      "Word 11          rate  \n",
      "Word 12   foreclosure  \n",
      "Word 13         house  \n",
      "Word 14          sale  \n",
      "Word 15   information  \n",
      "Word 16          debt  \n",
      "Word 17       process  \n",
      "Word 18           tax  \n",
      "Word 19   application  \n",
      "Word 20         month  \n",
      "Word 21       company  \n",
      "Word 22        income  \n",
      "Word 23       request  \n",
      "Word 24     complaint  \n",
      "Word 25        escrow  \n",
      "Word 26      attorney  \n",
      "Word 27     insurance  \n",
      "Word 28        lender  \n",
      "Word 29    assistance  \n",
      "Word 30    bankruptcy  \n"
     ]
    }
   ],
   "source": [
    "# For more clarity lets see the top 30 words for each of the topics\n",
    "\n",
    "topic_words_30 = print_top_n_words(30)\n",
    "print(\"Top 30 words for each of the topics : \\n\\n\", topic_words_30.T)"
   ]
  },
  {
   "cell_type": "code",
   "execution_count": 56,
   "metadata": {
    "id": "0OIT7LmFJrGF"
   },
   "outputs": [
    {
     "name": "stdout",
     "output_type": "stream",
     "text": [
      "The best topic assigned for each complaint in terms of integer values 0,1,2,3 & 4 : \n",
      " [4 0 1 ... 3 2 2]\n"
     ]
    }
   ],
   "source": [
    "# Create the best topic for each complaint in terms of integer values 0,1,2,3 & 4\n",
    "\n",
    "best_topic = nmf_model.transform(tfidf)\n",
    "print(\"The best topic assigned for each complaint in terms of integer values 0,1,2,3 & 4 : \\n\",best_topic.argmax(axis=1))"
   ]
  },
  {
   "cell_type": "code",
   "execution_count": 57,
   "metadata": {
    "id": "peyYv-ORJrGF"
   },
   "outputs": [],
   "source": [
    "# Assign the best topic to each of the complaints in Topic Column\n",
    "\n",
    "df_clean['Topic_Numbers'] = best_topic.argmax(axis=1)"
   ]
  },
  {
   "cell_type": "code",
   "execution_count": 58,
   "metadata": {
    "id": "fLh_Gf3nJrGF"
   },
   "outputs": [
    {
     "data": {
      "text/html": [
       "<div>\n",
       "<style scoped>\n",
       "    .dataframe tbody tr th:only-of-type {\n",
       "        vertical-align: middle;\n",
       "    }\n",
       "\n",
       "    .dataframe tbody tr th {\n",
       "        vertical-align: top;\n",
       "    }\n",
       "\n",
       "    .dataframe thead th {\n",
       "        text-align: right;\n",
       "    }\n",
       "</style>\n",
       "<table border=\"1\" class=\"dataframe\">\n",
       "  <thead>\n",
       "    <tr style=\"text-align: right;\">\n",
       "      <th></th>\n",
       "      <th>Cleaned_Complaint_Text</th>\n",
       "      <th>Lemmatized_Complaint</th>\n",
       "      <th>Complaint_POS_removed</th>\n",
       "      <th>Complaint_clean</th>\n",
       "      <th>Topic_Numbers</th>\n",
       "    </tr>\n",
       "  </thead>\n",
       "  <tbody>\n",
       "    <tr>\n",
       "      <th>0</th>\n",
       "      <td>good morning my name is   and i appreciate it ...</td>\n",
       "      <td>good morning my name is   and i appreciate it ...</td>\n",
       "      <td>morning name stop service debt verification st...</td>\n",
       "      <td>morning name stop service debt verification st...</td>\n",
       "      <td>4</td>\n",
       "    </tr>\n",
       "    <tr>\n",
       "      <th>1</th>\n",
       "      <td>i upgraded my   card in 2018 and was told by t...</td>\n",
       "      <td>i upgraded my   card in 2018 and wa told by th...</td>\n",
       "      <td>agent anniversary date agent information order...</td>\n",
       "      <td>agent anniversary date agent information order...</td>\n",
       "      <td>0</td>\n",
       "    </tr>\n",
       "    <tr>\n",
       "      <th>2</th>\n",
       "      <td>chase card was reported on 2019 however fraudu...</td>\n",
       "      <td>chase card wa reported on 2019 however fraudul...</td>\n",
       "      <td>chase card application identity consent servic...</td>\n",
       "      <td>chase card application identity consent servic...</td>\n",
       "      <td>1</td>\n",
       "    </tr>\n",
       "    <tr>\n",
       "      <th>3</th>\n",
       "      <td>on 2018 while trying to book a     ticket i ca...</td>\n",
       "      <td>on 2018 while trying to book a   ticket i came...</td>\n",
       "      <td>ticket offer ticket reward card information of...</td>\n",
       "      <td>ticket offer ticket reward card information of...</td>\n",
       "      <td>3</td>\n",
       "    </tr>\n",
       "    <tr>\n",
       "      <th>4</th>\n",
       "      <td>my grand son give me check for $1600.00 i depo...</td>\n",
       "      <td>my grand son give me check for $ 1600.00 i dep...</td>\n",
       "      <td>son check chase account fund chase bank accoun...</td>\n",
       "      <td>son check chase account fund chase bank accoun...</td>\n",
       "      <td>0</td>\n",
       "    </tr>\n",
       "  </tbody>\n",
       "</table>\n",
       "</div>"
      ],
      "text/plain": [
       "                              Cleaned_Complaint_Text  \\\n",
       "0  good morning my name is   and i appreciate it ...   \n",
       "1  i upgraded my   card in 2018 and was told by t...   \n",
       "2  chase card was reported on 2019 however fraudu...   \n",
       "3  on 2018 while trying to book a     ticket i ca...   \n",
       "4  my grand son give me check for $1600.00 i depo...   \n",
       "\n",
       "                                Lemmatized_Complaint  \\\n",
       "0  good morning my name is   and i appreciate it ...   \n",
       "1  i upgraded my   card in 2018 and wa told by th...   \n",
       "2  chase card wa reported on 2019 however fraudul...   \n",
       "3  on 2018 while trying to book a   ticket i came...   \n",
       "4  my grand son give me check for $ 1600.00 i dep...   \n",
       "\n",
       "                               Complaint_POS_removed  \\\n",
       "0  morning name stop service debt verification st...   \n",
       "1  agent anniversary date agent information order...   \n",
       "2  chase card application identity consent servic...   \n",
       "3  ticket offer ticket reward card information of...   \n",
       "4  son check chase account fund chase bank accoun...   \n",
       "\n",
       "                                     Complaint_clean  Topic_Numbers  \n",
       "0  morning name stop service debt verification st...              4  \n",
       "1  agent anniversary date agent information order...              0  \n",
       "2  chase card application identity consent servic...              1  \n",
       "3  ticket offer ticket reward card information of...              3  \n",
       "4  son check chase account fund chase bank accoun...              0  "
      ]
     },
     "execution_count": 58,
     "metadata": {},
     "output_type": "execute_result"
    }
   ],
   "source": [
    "# Head of the df_clean dataframe\n",
    "\n",
    "df_clean.head()"
   ]
  },
  {
   "cell_type": "code",
   "execution_count": 59,
   "metadata": {
    "id": "aQKpufSPJrGG"
   },
   "outputs": [
    {
     "data": {
      "text/html": [
       "<div>\n",
       "<style scoped>\n",
       "    .dataframe tbody tr th:only-of-type {\n",
       "        vertical-align: middle;\n",
       "    }\n",
       "\n",
       "    .dataframe tbody tr th {\n",
       "        vertical-align: top;\n",
       "    }\n",
       "\n",
       "    .dataframe thead th {\n",
       "        text-align: right;\n",
       "    }\n",
       "</style>\n",
       "<table border=\"1\" class=\"dataframe\">\n",
       "  <thead>\n",
       "    <tr style=\"text-align: right;\">\n",
       "      <th></th>\n",
       "      <th>Cleaned_Complaint_Text</th>\n",
       "      <th>Lemmatized_Complaint</th>\n",
       "      <th>Complaint_POS_removed</th>\n",
       "      <th>Complaint_clean</th>\n",
       "      <th>Topic_Numbers</th>\n",
       "    </tr>\n",
       "  </thead>\n",
       "  <tbody>\n",
       "    <tr>\n",
       "      <th>12</th>\n",
       "      <td>i opened an account with chase bank on  and us...</td>\n",
       "      <td>i opened an account with chase bank on  and us...</td>\n",
       "      <td>account code bonus term everything account dep...</td>\n",
       "      <td>account code bonus term everything account dep...</td>\n",
       "      <td>0</td>\n",
       "    </tr>\n",
       "    <tr>\n",
       "      <th>1</th>\n",
       "      <td>i upgraded my   card in 2018 and was told by t...</td>\n",
       "      <td>i upgraded my   card in 2018 and wa told by th...</td>\n",
       "      <td>agent anniversary date agent information order...</td>\n",
       "      <td>agent anniversary date agent information order...</td>\n",
       "      <td>0</td>\n",
       "    </tr>\n",
       "    <tr>\n",
       "      <th>4</th>\n",
       "      <td>my grand son give me check for $1600.00 i depo...</td>\n",
       "      <td>my grand son give me check for $ 1600.00 i dep...</td>\n",
       "      <td>son check chase account fund chase bank accoun...</td>\n",
       "      <td>son check chase account fund chase bank accoun...</td>\n",
       "      <td>0</td>\n",
       "    </tr>\n",
       "    <tr>\n",
       "      <th>6</th>\n",
       "      <td>with out notice j.p morgan chase restricted my...</td>\n",
       "      <td>with out notice j.p morgan chase restricted my...</td>\n",
       "      <td>chase account debit card branch customer servi...</td>\n",
       "      <td>chase account debit card branch customer servi...</td>\n",
       "      <td>0</td>\n",
       "    </tr>\n",
       "    <tr>\n",
       "      <th>10</th>\n",
       "      <td>mishandling of this account by chase auto and</td>\n",
       "      <td>mishandling of this account by chase auto and</td>\n",
       "      <td>account chase auto</td>\n",
       "      <td>account chase auto</td>\n",
       "      <td>0</td>\n",
       "    </tr>\n",
       "    <tr>\n",
       "      <th>2</th>\n",
       "      <td>chase card was reported on 2019 however fraudu...</td>\n",
       "      <td>chase card wa reported on 2019 however fraudul...</td>\n",
       "      <td>chase card application identity consent servic...</td>\n",
       "      <td>chase card application identity consent servic...</td>\n",
       "      <td>1</td>\n",
       "    </tr>\n",
       "    <tr>\n",
       "      <th>19</th>\n",
       "      <td>i made a purchase with    on 2019 in the amoun...</td>\n",
       "      <td>i made a purchase with    on 2019 in the amoun...</td>\n",
       "      <td>purchase amount transaction dispute case charg...</td>\n",
       "      <td>purchase amount transaction dispute case charg...</td>\n",
       "      <td>1</td>\n",
       "    </tr>\n",
       "    <tr>\n",
       "      <th>8</th>\n",
       "      <td>on  2019 i made a $300.00 payment to an online...</td>\n",
       "      <td>on  2019 i made a $ 300.00 payment to an onlin...</td>\n",
       "      <td>payment retailer chase pay chase website scam ...</td>\n",
       "      <td>payment retailer chase pay chase website scam ...</td>\n",
       "      <td>1</td>\n",
       "    </tr>\n",
       "    <tr>\n",
       "      <th>16</th>\n",
       "      <td>a sofa love seat table and chairs and was ne...</td>\n",
       "      <td>a sofa love seat table and chair and wa neve...</td>\n",
       "      <td>sofa love seat table chair debit card bank vis...</td>\n",
       "      <td>sofa love seat table chair debit card bank vis...</td>\n",
       "      <td>1</td>\n",
       "    </tr>\n",
       "    <tr>\n",
       "      <th>14</th>\n",
       "      <td>my chase amazon card was declined for a cateri...</td>\n",
       "      <td>my chase amazon card wa declined for a caterin...</td>\n",
       "      <td>chase amazon card catering order brother funer...</td>\n",
       "      <td>chase amazon card catering order brother funer...</td>\n",
       "      <td>1</td>\n",
       "    </tr>\n",
       "    <tr>\n",
       "      <th>33</th>\n",
       "      <td>i recently called to ask chase bank why they r...</td>\n",
       "      <td>i recently called to ask chase bank why they r...</td>\n",
       "      <td>chase bank credit bureau day payment info bill...</td>\n",
       "      <td>chase bank credit bureau day payment info bill...</td>\n",
       "      <td>2</td>\n",
       "    </tr>\n",
       "    <tr>\n",
       "      <th>24</th>\n",
       "      <td>i made a purchase of $260.00 on  i made paymen...</td>\n",
       "      <td>i made a purchase of $ 260.00 on  i made payme...</td>\n",
       "      <td>purchase payment payment closing date statemen...</td>\n",
       "      <td>purchase payment payment closing date statemen...</td>\n",
       "      <td>2</td>\n",
       "    </tr>\n",
       "    <tr>\n",
       "      <th>70</th>\n",
       "      <td>on more than one occasion my bank  chase  has ...</td>\n",
       "      <td>on more than one occasion my bank chase ha cha...</td>\n",
       "      <td>occasion bank chase overdraft fee account way ...</td>\n",
       "      <td>occasion bank chase overdraft fee account way ...</td>\n",
       "      <td>2</td>\n",
       "    </tr>\n",
       "    <tr>\n",
       "      <th>7</th>\n",
       "      <td>during the summer months i experience a declin...</td>\n",
       "      <td>during the summer month i experience a decline...</td>\n",
       "      <td>summer month decline income employment month p...</td>\n",
       "      <td>summer month decline income employment month p...</td>\n",
       "      <td>2</td>\n",
       "    </tr>\n",
       "    <tr>\n",
       "      <th>57</th>\n",
       "      <td>action taken by the company between the dates ...</td>\n",
       "      <td>action taken by the company between the date o...</td>\n",
       "      <td>action company date individual group chase cla...</td>\n",
       "      <td>action company date individual group chase cla...</td>\n",
       "      <td>2</td>\n",
       "    </tr>\n",
       "    <tr>\n",
       "      <th>11</th>\n",
       "      <td>i have reached out to  several times in attemp...</td>\n",
       "      <td>i have reached out to  several time in attempt...</td>\n",
       "      <td>time attempt inquiry creditor inquiry report a...</td>\n",
       "      <td>time attempt inquiry creditor inquiry report a...</td>\n",
       "      <td>3</td>\n",
       "    </tr>\n",
       "    <tr>\n",
       "      <th>9</th>\n",
       "      <td>i have a chase credit card which is incorrectl...</td>\n",
       "      <td>i have a chase credit card which is incorrectl...</td>\n",
       "      <td>chase credit card credit report company issue</td>\n",
       "      <td>chase credit card credit report company issue</td>\n",
       "      <td>3</td>\n",
       "    </tr>\n",
       "    <tr>\n",
       "      <th>5</th>\n",
       "      <td>can you please remove inquiry</td>\n",
       "      <td>can you please remove inquiry</td>\n",
       "      <td>inquiry</td>\n",
       "      <td>inquiry</td>\n",
       "      <td>3</td>\n",
       "    </tr>\n",
       "    <tr>\n",
       "      <th>3</th>\n",
       "      <td>on 2018 while trying to book a     ticket i ca...</td>\n",
       "      <td>on 2018 while trying to book a   ticket i came...</td>\n",
       "      <td>ticket offer ticket reward card information of...</td>\n",
       "      <td>ticket offer ticket reward card information of...</td>\n",
       "      <td>3</td>\n",
       "    </tr>\n",
       "    <tr>\n",
       "      <th>34</th>\n",
       "      <td>unknown inquire reported on my credit bureau s...</td>\n",
       "      <td>unknown inquire reported on my credit bureau s...</td>\n",
       "      <td>inquire credit bureau company chase auto</td>\n",
       "      <td>inquire credit bureau company chase auto</td>\n",
       "      <td>3</td>\n",
       "    </tr>\n",
       "    <tr>\n",
       "      <th>18</th>\n",
       "      <td>chase sent me an email today with the innocuou...</td>\n",
       "      <td>chase sent me an email today with the innocuou...</td>\n",
       "      <td>chase email today title information change cha...</td>\n",
       "      <td>chase email today title information change cha...</td>\n",
       "      <td>4</td>\n",
       "    </tr>\n",
       "    <tr>\n",
       "      <th>23</th>\n",
       "      <td>i have been trying to do a loan modification w...</td>\n",
       "      <td>i have been trying to do a loan modification w...</td>\n",
       "      <td>loan modification chase runaround mo payment</td>\n",
       "      <td>loan modification chase runaround mo payment</td>\n",
       "      <td>4</td>\n",
       "    </tr>\n",
       "    <tr>\n",
       "      <th>30</th>\n",
       "      <td>i have wired through one of chase branches in ...</td>\n",
       "      <td>i have wired through one of chase branch in   ...</td>\n",
       "      <td>chase branch reinstatement amount order forecl...</td>\n",
       "      <td>chase branch reinstatement amount order forecl...</td>\n",
       "      <td>4</td>\n",
       "    </tr>\n",
       "    <tr>\n",
       "      <th>32</th>\n",
       "      <td>i bought a new   on  from    in  i paid the lo...</td>\n",
       "      <td>i bought a new   on  from    in  i paid the lo...</td>\n",
       "      <td>loan title chase time resolution time nothing ...</td>\n",
       "      <td>loan title chase time resolution time nothing ...</td>\n",
       "      <td>4</td>\n",
       "    </tr>\n",
       "    <tr>\n",
       "      <th>0</th>\n",
       "      <td>good morning my name is   and i appreciate it ...</td>\n",
       "      <td>good morning my name is   and i appreciate it ...</td>\n",
       "      <td>morning name stop service debt verification st...</td>\n",
       "      <td>morning name stop service debt verification st...</td>\n",
       "      <td>4</td>\n",
       "    </tr>\n",
       "  </tbody>\n",
       "</table>\n",
       "</div>"
      ],
      "text/plain": [
       "                               Cleaned_Complaint_Text  \\\n",
       "12  i opened an account with chase bank on  and us...   \n",
       "1   i upgraded my   card in 2018 and was told by t...   \n",
       "4   my grand son give me check for $1600.00 i depo...   \n",
       "6   with out notice j.p morgan chase restricted my...   \n",
       "10     mishandling of this account by chase auto and    \n",
       "2   chase card was reported on 2019 however fraudu...   \n",
       "19  i made a purchase with    on 2019 in the amoun...   \n",
       "8   on  2019 i made a $300.00 payment to an online...   \n",
       "16    a sofa love seat table and chairs and was ne...   \n",
       "14  my chase amazon card was declined for a cateri...   \n",
       "33  i recently called to ask chase bank why they r...   \n",
       "24  i made a purchase of $260.00 on  i made paymen...   \n",
       "70  on more than one occasion my bank  chase  has ...   \n",
       "7   during the summer months i experience a declin...   \n",
       "57  action taken by the company between the dates ...   \n",
       "11  i have reached out to  several times in attemp...   \n",
       "9   i have a chase credit card which is incorrectl...   \n",
       "5                       can you please remove inquiry   \n",
       "3   on 2018 while trying to book a     ticket i ca...   \n",
       "34  unknown inquire reported on my credit bureau s...   \n",
       "18  chase sent me an email today with the innocuou...   \n",
       "23  i have been trying to do a loan modification w...   \n",
       "30  i have wired through one of chase branches in ...   \n",
       "32  i bought a new   on  from    in  i paid the lo...   \n",
       "0   good morning my name is   and i appreciate it ...   \n",
       "\n",
       "                                 Lemmatized_Complaint  \\\n",
       "12  i opened an account with chase bank on  and us...   \n",
       "1   i upgraded my   card in 2018 and wa told by th...   \n",
       "4   my grand son give me check for $ 1600.00 i dep...   \n",
       "6   with out notice j.p morgan chase restricted my...   \n",
       "10     mishandling of this account by chase auto and    \n",
       "2   chase card wa reported on 2019 however fraudul...   \n",
       "19  i made a purchase with    on 2019 in the amoun...   \n",
       "8   on  2019 i made a $ 300.00 payment to an onlin...   \n",
       "16    a sofa love seat table and chair and wa neve...   \n",
       "14  my chase amazon card wa declined for a caterin...   \n",
       "33  i recently called to ask chase bank why they r...   \n",
       "24  i made a purchase of $ 260.00 on  i made payme...   \n",
       "70  on more than one occasion my bank chase ha cha...   \n",
       "7   during the summer month i experience a decline...   \n",
       "57  action taken by the company between the date o...   \n",
       "11  i have reached out to  several time in attempt...   \n",
       "9   i have a chase credit card which is incorrectl...   \n",
       "5                       can you please remove inquiry   \n",
       "3   on 2018 while trying to book a   ticket i came...   \n",
       "34  unknown inquire reported on my credit bureau s...   \n",
       "18  chase sent me an email today with the innocuou...   \n",
       "23  i have been trying to do a loan modification w...   \n",
       "30  i have wired through one of chase branch in   ...   \n",
       "32  i bought a new   on  from    in  i paid the lo...   \n",
       "0   good morning my name is   and i appreciate it ...   \n",
       "\n",
       "                                Complaint_POS_removed  \\\n",
       "12  account code bonus term everything account dep...   \n",
       "1   agent anniversary date agent information order...   \n",
       "4   son check chase account fund chase bank accoun...   \n",
       "6   chase account debit card branch customer servi...   \n",
       "10                                account chase auto    \n",
       "2   chase card application identity consent servic...   \n",
       "19  purchase amount transaction dispute case charg...   \n",
       "8   payment retailer chase pay chase website scam ...   \n",
       "16  sofa love seat table chair debit card bank vis...   \n",
       "14  chase amazon card catering order brother funer...   \n",
       "33  chase bank credit bureau day payment info bill...   \n",
       "24  purchase payment payment closing date statemen...   \n",
       "70  occasion bank chase overdraft fee account way ...   \n",
       "7   summer month decline income employment month p...   \n",
       "57  action company date individual group chase cla...   \n",
       "11  time attempt inquiry creditor inquiry report a...   \n",
       "9       chase credit card credit report company issue   \n",
       "5                                             inquiry   \n",
       "3   ticket offer ticket reward card information of...   \n",
       "34           inquire credit bureau company chase auto   \n",
       "18  chase email today title information change cha...   \n",
       "23       loan modification chase runaround mo payment   \n",
       "30  chase branch reinstatement amount order forecl...   \n",
       "32  loan title chase time resolution time nothing ...   \n",
       "0   morning name stop service debt verification st...   \n",
       "\n",
       "                                      Complaint_clean  Topic_Numbers  \n",
       "12  account code bonus term everything account dep...              0  \n",
       "1   agent anniversary date agent information order...              0  \n",
       "4   son check chase account fund chase bank accoun...              0  \n",
       "6   chase account debit card branch customer servi...              0  \n",
       "10                                account chase auto               0  \n",
       "2   chase card application identity consent servic...              1  \n",
       "19  purchase amount transaction dispute case charg...              1  \n",
       "8   payment retailer chase pay chase website scam ...              1  \n",
       "16  sofa love seat table chair debit card bank vis...              1  \n",
       "14  chase amazon card catering order brother funer...              1  \n",
       "33  chase bank credit bureau day payment info bill...              2  \n",
       "24  purchase payment payment closing date statemen...              2  \n",
       "70  occasion bank chase overdraft fee account way ...              2  \n",
       "7   summer month decline income employment month p...              2  \n",
       "57  action company date individual group chase cla...              2  \n",
       "11  time attempt inquiry creditor inquiry report a...              3  \n",
       "9       chase credit card credit report company issue              3  \n",
       "5                                             inquiry              3  \n",
       "3   ticket offer ticket reward card information of...              3  \n",
       "34           inquire credit bureau company chase auto              3  \n",
       "18  chase email today title information change cha...              4  \n",
       "23       loan modification chase runaround mo payment              4  \n",
       "30  chase branch reinstatement amount order forecl...              4  \n",
       "32  loan title chase time resolution time nothing ...              4  \n",
       "0   morning name stop service debt verification st...              4  "
      ]
     },
     "execution_count": 59,
     "metadata": {},
     "output_type": "execute_result"
    }
   ],
   "source": [
    "# Print the first 5 Complaints for each of the Topics\n",
    "\n",
    "top5_df = df_clean.groupby('Topic_Numbers').head(5)\n",
    "top5_df.sort_values('Topic_Numbers')"
   ]
  },
  {
   "cell_type": "code",
   "execution_count": 60,
   "metadata": {},
   "outputs": [
    {
     "data": {
      "text/plain": [
       "1    6098\n",
       "0    5830\n",
       "4    3920\n",
       "3    2692\n",
       "2    2532\n",
       "Name: Topic_Numbers, dtype: int64"
      ]
     },
     "execution_count": 60,
     "metadata": {},
     "output_type": "execute_result"
    }
   ],
   "source": [
    "# Lets check how many complaints does each topic contains\n",
    "\n",
    "df_clean['Topic_Numbers'].value_counts()"
   ]
  },
  {
   "cell_type": "markdown",
   "metadata": {
    "id": "piyLxzj6v07j"
   },
   "source": [
    "#### After evaluating the mapping, if the topics assigned are correct then assign these names to the relevant topic:\n",
    "* Bank Account services\n",
    "* Credit card or prepaid card\n",
    "* Theft/Dispute Reporting\n",
    "* Mortgage/Loan\n",
    "* Others"
   ]
  },
  {
   "cell_type": "code",
   "execution_count": 61,
   "metadata": {
    "id": "TWpwDG4RJrGG"
   },
   "outputs": [],
   "source": [
    "# Create the dictionary of Topic names and Topics\n",
    "\n",
    "Topic_names =   {\n",
    "                0 : \"Bank account services\",\n",
    "                1 : \"Theft/Dispute reporting\",\n",
    "                2 : \"Others\",\n",
    "                3 : \"Credit Card/Prepaid Card\",\n",
    "                4 : \"Mortgages/loans\"\n",
    "                }\n",
    "\n",
    "# Map the topic numbers to Topic Names\n",
    "\n",
    "df_clean['Topic_Names'] = df_clean['Topic_Numbers'].map(Topic_names)"
   ]
  },
  {
   "cell_type": "code",
   "execution_count": 62,
   "metadata": {
    "id": "-2ULY5K6JrGG"
   },
   "outputs": [
    {
     "data": {
      "text/html": [
       "<div>\n",
       "<style scoped>\n",
       "    .dataframe tbody tr th:only-of-type {\n",
       "        vertical-align: middle;\n",
       "    }\n",
       "\n",
       "    .dataframe tbody tr th {\n",
       "        vertical-align: top;\n",
       "    }\n",
       "\n",
       "    .dataframe thead th {\n",
       "        text-align: right;\n",
       "    }\n",
       "</style>\n",
       "<table border=\"1\" class=\"dataframe\">\n",
       "  <thead>\n",
       "    <tr style=\"text-align: right;\">\n",
       "      <th></th>\n",
       "      <th>Cleaned_Complaint_Text</th>\n",
       "      <th>Lemmatized_Complaint</th>\n",
       "      <th>Complaint_POS_removed</th>\n",
       "      <th>Complaint_clean</th>\n",
       "      <th>Topic_Numbers</th>\n",
       "      <th>Topic_Names</th>\n",
       "    </tr>\n",
       "  </thead>\n",
       "  <tbody>\n",
       "    <tr>\n",
       "      <th>0</th>\n",
       "      <td>good morning my name is   and i appreciate it ...</td>\n",
       "      <td>good morning my name is   and i appreciate it ...</td>\n",
       "      <td>morning name stop service debt verification st...</td>\n",
       "      <td>morning name stop service debt verification st...</td>\n",
       "      <td>4</td>\n",
       "      <td>Mortgages/loans</td>\n",
       "    </tr>\n",
       "    <tr>\n",
       "      <th>1</th>\n",
       "      <td>i upgraded my   card in 2018 and was told by t...</td>\n",
       "      <td>i upgraded my   card in 2018 and wa told by th...</td>\n",
       "      <td>agent anniversary date agent information order...</td>\n",
       "      <td>agent anniversary date agent information order...</td>\n",
       "      <td>0</td>\n",
       "      <td>Bank account services</td>\n",
       "    </tr>\n",
       "    <tr>\n",
       "      <th>2</th>\n",
       "      <td>chase card was reported on 2019 however fraudu...</td>\n",
       "      <td>chase card wa reported on 2019 however fraudul...</td>\n",
       "      <td>chase card application identity consent servic...</td>\n",
       "      <td>chase card application identity consent servic...</td>\n",
       "      <td>1</td>\n",
       "      <td>Theft/Dispute reporting</td>\n",
       "    </tr>\n",
       "    <tr>\n",
       "      <th>3</th>\n",
       "      <td>on 2018 while trying to book a     ticket i ca...</td>\n",
       "      <td>on 2018 while trying to book a   ticket i came...</td>\n",
       "      <td>ticket offer ticket reward card information of...</td>\n",
       "      <td>ticket offer ticket reward card information of...</td>\n",
       "      <td>3</td>\n",
       "      <td>Credit Card/Prepaid Card</td>\n",
       "    </tr>\n",
       "    <tr>\n",
       "      <th>4</th>\n",
       "      <td>my grand son give me check for $1600.00 i depo...</td>\n",
       "      <td>my grand son give me check for $ 1600.00 i dep...</td>\n",
       "      <td>son check chase account fund chase bank accoun...</td>\n",
       "      <td>son check chase account fund chase bank accoun...</td>\n",
       "      <td>0</td>\n",
       "      <td>Bank account services</td>\n",
       "    </tr>\n",
       "    <tr>\n",
       "      <th>...</th>\n",
       "      <td>...</td>\n",
       "      <td>...</td>\n",
       "      <td>...</td>\n",
       "      <td>...</td>\n",
       "      <td>...</td>\n",
       "      <td>...</td>\n",
       "    </tr>\n",
       "    <tr>\n",
       "      <th>21067</th>\n",
       "      <td>after being a chase card customer for well ove...</td>\n",
       "      <td>after being a chase card customer for well ove...</td>\n",
       "      <td>chase card customer decade solicitation credit...</td>\n",
       "      <td>chase card customer decade solicitation credit...</td>\n",
       "      <td>1</td>\n",
       "      <td>Theft/Dispute reporting</td>\n",
       "    </tr>\n",
       "    <tr>\n",
       "      <th>21068</th>\n",
       "      <td>on wednesday  i called chas my   visa credit c...</td>\n",
       "      <td>on wednesday  i called chas my   visa credit c...</td>\n",
       "      <td>credit card provider claim purchase protection...</td>\n",
       "      <td>credit card provider claim purchase protection...</td>\n",
       "      <td>1</td>\n",
       "      <td>Theft/Dispute reporting</td>\n",
       "    </tr>\n",
       "    <tr>\n",
       "      <th>21069</th>\n",
       "      <td>i am not familiar with  pay and did not unders...</td>\n",
       "      <td>i am not familiar with  pay and did not unders...</td>\n",
       "      <td>pay risk consumer chase bank app chase year ba...</td>\n",
       "      <td>pay risk consumer chase bank app chase year ba...</td>\n",
       "      <td>3</td>\n",
       "      <td>Credit Card/Prepaid Card</td>\n",
       "    </tr>\n",
       "    <tr>\n",
       "      <th>21070</th>\n",
       "      <td>i have had flawless credit for 30 yrs ive had ...</td>\n",
       "      <td>i have had flawless credit for 30 yr ive had c...</td>\n",
       "      <td>credit yr chase credit card chase freedom prob...</td>\n",
       "      <td>credit yr chase credit card chase freedom prob...</td>\n",
       "      <td>2</td>\n",
       "      <td>Others</td>\n",
       "    </tr>\n",
       "    <tr>\n",
       "      <th>21071</th>\n",
       "      <td>roughly 10+ years ago i closed out my accounts...</td>\n",
       "      <td>roughly 10+ year ago i closed out my account w...</td>\n",
       "      <td>year account order line credit account payment...</td>\n",
       "      <td>year account order line credit account payment...</td>\n",
       "      <td>2</td>\n",
       "      <td>Others</td>\n",
       "    </tr>\n",
       "  </tbody>\n",
       "</table>\n",
       "<p>21072 rows × 6 columns</p>\n",
       "</div>"
      ],
      "text/plain": [
       "                                  Cleaned_Complaint_Text  \\\n",
       "0      good morning my name is   and i appreciate it ...   \n",
       "1      i upgraded my   card in 2018 and was told by t...   \n",
       "2      chase card was reported on 2019 however fraudu...   \n",
       "3      on 2018 while trying to book a     ticket i ca...   \n",
       "4      my grand son give me check for $1600.00 i depo...   \n",
       "...                                                  ...   \n",
       "21067  after being a chase card customer for well ove...   \n",
       "21068  on wednesday  i called chas my   visa credit c...   \n",
       "21069  i am not familiar with  pay and did not unders...   \n",
       "21070  i have had flawless credit for 30 yrs ive had ...   \n",
       "21071  roughly 10+ years ago i closed out my accounts...   \n",
       "\n",
       "                                    Lemmatized_Complaint  \\\n",
       "0      good morning my name is   and i appreciate it ...   \n",
       "1      i upgraded my   card in 2018 and wa told by th...   \n",
       "2      chase card wa reported on 2019 however fraudul...   \n",
       "3      on 2018 while trying to book a   ticket i came...   \n",
       "4      my grand son give me check for $ 1600.00 i dep...   \n",
       "...                                                  ...   \n",
       "21067  after being a chase card customer for well ove...   \n",
       "21068  on wednesday  i called chas my   visa credit c...   \n",
       "21069  i am not familiar with  pay and did not unders...   \n",
       "21070  i have had flawless credit for 30 yr ive had c...   \n",
       "21071  roughly 10+ year ago i closed out my account w...   \n",
       "\n",
       "                                   Complaint_POS_removed  \\\n",
       "0      morning name stop service debt verification st...   \n",
       "1      agent anniversary date agent information order...   \n",
       "2      chase card application identity consent servic...   \n",
       "3      ticket offer ticket reward card information of...   \n",
       "4      son check chase account fund chase bank accoun...   \n",
       "...                                                  ...   \n",
       "21067  chase card customer decade solicitation credit...   \n",
       "21068  credit card provider claim purchase protection...   \n",
       "21069  pay risk consumer chase bank app chase year ba...   \n",
       "21070  credit yr chase credit card chase freedom prob...   \n",
       "21071  year account order line credit account payment...   \n",
       "\n",
       "                                         Complaint_clean  Topic_Numbers  \\\n",
       "0      morning name stop service debt verification st...              4   \n",
       "1      agent anniversary date agent information order...              0   \n",
       "2      chase card application identity consent servic...              1   \n",
       "3      ticket offer ticket reward card information of...              3   \n",
       "4      son check chase account fund chase bank accoun...              0   \n",
       "...                                                  ...            ...   \n",
       "21067  chase card customer decade solicitation credit...              1   \n",
       "21068  credit card provider claim purchase protection...              1   \n",
       "21069  pay risk consumer chase bank app chase year ba...              3   \n",
       "21070  credit yr chase credit card chase freedom prob...              2   \n",
       "21071  year account order line credit account payment...              2   \n",
       "\n",
       "                    Topic_Names  \n",
       "0               Mortgages/loans  \n",
       "1         Bank account services  \n",
       "2       Theft/Dispute reporting  \n",
       "3      Credit Card/Prepaid Card  \n",
       "4         Bank account services  \n",
       "...                         ...  \n",
       "21067   Theft/Dispute reporting  \n",
       "21068   Theft/Dispute reporting  \n",
       "21069  Credit Card/Prepaid Card  \n",
       "21070                    Others  \n",
       "21071                    Others  \n",
       "\n",
       "[21072 rows x 6 columns]"
      ]
     },
     "execution_count": 62,
     "metadata": {},
     "output_type": "execute_result"
    }
   ],
   "source": [
    "df_clean"
   ]
  },
  {
   "cell_type": "markdown",
   "metadata": {},
   "source": [
    "### INSPECTING AND VALIDATING EACH CLUSTER AND ITS MAPPED TOPICS :\n",
    "- __Complaint__ - \"good morning my name is   and i appreciate it if you could help me put a stop to chase bank cardmember services in 2018 i wrote to chase asking for debt verification and what they sent me a statement which is not acceptable i am asking the bank to validate the debt instead i been receiving mail every month from them attempting to collect a debt i have a right to know this information as a consumer chase account #     thanks in advance for your help\" ------------- __Mortgages/loans__<br><br>\n",
    "\n",
    "- __Complaint__ - \"i upgraded my   card in 2018 and was told by the agent who did the upgrade my anniversary date would not change it turned the agent was giving me the wrong information in order to upgrade the account    changed my anniversary date from  to  without my consent  has the recording of the agent who was misled me\" ------------- __Bank account services__<br><br>\n",
    "\n",
    "- __Complaint__ - \"chase card was reported on 2019 however fraudulent application have been submitted my identity without my consent to fraudulently obtain services do not extend credit without verifying the identity of the applicant\" ------------- __Theft/Dispute reporting__<br><br>\n",
    "\n",
    "- __Complaint__ - \"on 2018 while trying to book a     ticket i came across an offer for 300.00 to be applied towards the ticket if i applied for a rewards card i put in my information for the offer and within less than a minute was notified via the screen that a decision could not be made i immediately contacted  and was referred to chase bank i then immediately contacted chase bank within no more than  of getting the notification on the screen and i was told by the chase representative i spoke with that my application was denied but she could not state why i asked for more information about the   offer and she explained that even if i had been approved the credit offer only gets applied after the first account statement and could not be used to purchase the ticket i then explicitly told her i was glad i got denied and i was absolutely no longer interested in the account i asked that the application be withdrawn and the representative obliged this all happened no later than  after putting in the application on 2018 notwithstanding my explicit request not to proceed with the application and contrary to what i was told by the chase representative chase did in fact go ahead to open a credit account in my name on 2018 this is now being reported in my credit report and chase has refused to correct this information on my credit report even though they went ahead to process an application which i did not consent to and out of their error\" ------------- __Credit Card/Prepaid Card__<br><br>\n",
    "\n",
    "- __Complaint__ - \"roughly 10+ years ago i closed out my accounts with jp morgan chase bank  in order to close out an unsecured line of credit i had to pay it off i did that to close out my account roughly 500.00 payment when i closed out the accounts and now i get this late payment that showed up on my credit report after 10+ years stating i owe close to 900.00 dollars i have never had any payment schedules or notifications in the 10+ years because i paid it off upon calling them i am told i need to show proof i paid it off i would like to think that if indeed i had not paid it off  which i did  i would have immediately received late payment notifications i left chase bank because of some poor customer service and charges that were way out of line with the other banking institutions\" ------------- __Others__<br>\n"
   ]
  },
  {
   "cell_type": "markdown",
   "metadata": {
    "id": "7Mu0QBOcJrGH"
   },
   "source": [
    "## 8. SUPERVISED MODEL TO PREDICT ANY NEW COMPLAINTS TO RELEVANT TOPICS\n",
    "\n",
    "You have now build the model to create the topics for each complaints.Now in the below section you will use them to classify any new complaints.\n",
    "\n",
    "Since you will be using supervised learning technique we have to convert the topic names to numbers(numpy arrays only understand numbers)"
   ]
  },
  {
   "cell_type": "code",
   "execution_count": 63,
   "metadata": {
    "id": "_U8J3J8wJrGH"
   },
   "outputs": [],
   "source": [
    "df_clean = df_clean.drop(\"Topic_Numbers\", axis = 1)\n",
    "df_clean.rename(columns = {'Topic_Names' : 'Topic'}, inplace=True)"
   ]
  },
  {
   "cell_type": "code",
   "execution_count": 64,
   "metadata": {
    "id": "BWIgJUkQJrGH"
   },
   "outputs": [
    {
     "data": {
      "text/html": [
       "<div>\n",
       "<style scoped>\n",
       "    .dataframe tbody tr th:only-of-type {\n",
       "        vertical-align: middle;\n",
       "    }\n",
       "\n",
       "    .dataframe tbody tr th {\n",
       "        vertical-align: top;\n",
       "    }\n",
       "\n",
       "    .dataframe thead th {\n",
       "        text-align: right;\n",
       "    }\n",
       "</style>\n",
       "<table border=\"1\" class=\"dataframe\">\n",
       "  <thead>\n",
       "    <tr style=\"text-align: right;\">\n",
       "      <th></th>\n",
       "      <th>Cleaned_Complaint_Text</th>\n",
       "      <th>Lemmatized_Complaint</th>\n",
       "      <th>Complaint_POS_removed</th>\n",
       "      <th>Complaint_clean</th>\n",
       "      <th>Topic</th>\n",
       "    </tr>\n",
       "  </thead>\n",
       "  <tbody>\n",
       "    <tr>\n",
       "      <th>0</th>\n",
       "      <td>good morning my name is   and i appreciate it ...</td>\n",
       "      <td>good morning my name is   and i appreciate it ...</td>\n",
       "      <td>morning name stop service debt verification st...</td>\n",
       "      <td>morning name stop service debt verification st...</td>\n",
       "      <td>Mortgages/loans</td>\n",
       "    </tr>\n",
       "    <tr>\n",
       "      <th>1</th>\n",
       "      <td>i upgraded my   card in 2018 and was told by t...</td>\n",
       "      <td>i upgraded my   card in 2018 and wa told by th...</td>\n",
       "      <td>agent anniversary date agent information order...</td>\n",
       "      <td>agent anniversary date agent information order...</td>\n",
       "      <td>Bank account services</td>\n",
       "    </tr>\n",
       "    <tr>\n",
       "      <th>2</th>\n",
       "      <td>chase card was reported on 2019 however fraudu...</td>\n",
       "      <td>chase card wa reported on 2019 however fraudul...</td>\n",
       "      <td>chase card application identity consent servic...</td>\n",
       "      <td>chase card application identity consent servic...</td>\n",
       "      <td>Theft/Dispute reporting</td>\n",
       "    </tr>\n",
       "    <tr>\n",
       "      <th>3</th>\n",
       "      <td>on 2018 while trying to book a     ticket i ca...</td>\n",
       "      <td>on 2018 while trying to book a   ticket i came...</td>\n",
       "      <td>ticket offer ticket reward card information of...</td>\n",
       "      <td>ticket offer ticket reward card information of...</td>\n",
       "      <td>Credit Card/Prepaid Card</td>\n",
       "    </tr>\n",
       "    <tr>\n",
       "      <th>4</th>\n",
       "      <td>my grand son give me check for $1600.00 i depo...</td>\n",
       "      <td>my grand son give me check for $ 1600.00 i dep...</td>\n",
       "      <td>son check chase account fund chase bank accoun...</td>\n",
       "      <td>son check chase account fund chase bank accoun...</td>\n",
       "      <td>Bank account services</td>\n",
       "    </tr>\n",
       "    <tr>\n",
       "      <th>...</th>\n",
       "      <td>...</td>\n",
       "      <td>...</td>\n",
       "      <td>...</td>\n",
       "      <td>...</td>\n",
       "      <td>...</td>\n",
       "    </tr>\n",
       "    <tr>\n",
       "      <th>21067</th>\n",
       "      <td>after being a chase card customer for well ove...</td>\n",
       "      <td>after being a chase card customer for well ove...</td>\n",
       "      <td>chase card customer decade solicitation credit...</td>\n",
       "      <td>chase card customer decade solicitation credit...</td>\n",
       "      <td>Theft/Dispute reporting</td>\n",
       "    </tr>\n",
       "    <tr>\n",
       "      <th>21068</th>\n",
       "      <td>on wednesday  i called chas my   visa credit c...</td>\n",
       "      <td>on wednesday  i called chas my   visa credit c...</td>\n",
       "      <td>credit card provider claim purchase protection...</td>\n",
       "      <td>credit card provider claim purchase protection...</td>\n",
       "      <td>Theft/Dispute reporting</td>\n",
       "    </tr>\n",
       "    <tr>\n",
       "      <th>21069</th>\n",
       "      <td>i am not familiar with  pay and did not unders...</td>\n",
       "      <td>i am not familiar with  pay and did not unders...</td>\n",
       "      <td>pay risk consumer chase bank app chase year ba...</td>\n",
       "      <td>pay risk consumer chase bank app chase year ba...</td>\n",
       "      <td>Credit Card/Prepaid Card</td>\n",
       "    </tr>\n",
       "    <tr>\n",
       "      <th>21070</th>\n",
       "      <td>i have had flawless credit for 30 yrs ive had ...</td>\n",
       "      <td>i have had flawless credit for 30 yr ive had c...</td>\n",
       "      <td>credit yr chase credit card chase freedom prob...</td>\n",
       "      <td>credit yr chase credit card chase freedom prob...</td>\n",
       "      <td>Others</td>\n",
       "    </tr>\n",
       "    <tr>\n",
       "      <th>21071</th>\n",
       "      <td>roughly 10+ years ago i closed out my accounts...</td>\n",
       "      <td>roughly 10+ year ago i closed out my account w...</td>\n",
       "      <td>year account order line credit account payment...</td>\n",
       "      <td>year account order line credit account payment...</td>\n",
       "      <td>Others</td>\n",
       "    </tr>\n",
       "  </tbody>\n",
       "</table>\n",
       "<p>21072 rows × 5 columns</p>\n",
       "</div>"
      ],
      "text/plain": [
       "                                  Cleaned_Complaint_Text  \\\n",
       "0      good morning my name is   and i appreciate it ...   \n",
       "1      i upgraded my   card in 2018 and was told by t...   \n",
       "2      chase card was reported on 2019 however fraudu...   \n",
       "3      on 2018 while trying to book a     ticket i ca...   \n",
       "4      my grand son give me check for $1600.00 i depo...   \n",
       "...                                                  ...   \n",
       "21067  after being a chase card customer for well ove...   \n",
       "21068  on wednesday  i called chas my   visa credit c...   \n",
       "21069  i am not familiar with  pay and did not unders...   \n",
       "21070  i have had flawless credit for 30 yrs ive had ...   \n",
       "21071  roughly 10+ years ago i closed out my accounts...   \n",
       "\n",
       "                                    Lemmatized_Complaint  \\\n",
       "0      good morning my name is   and i appreciate it ...   \n",
       "1      i upgraded my   card in 2018 and wa told by th...   \n",
       "2      chase card wa reported on 2019 however fraudul...   \n",
       "3      on 2018 while trying to book a   ticket i came...   \n",
       "4      my grand son give me check for $ 1600.00 i dep...   \n",
       "...                                                  ...   \n",
       "21067  after being a chase card customer for well ove...   \n",
       "21068  on wednesday  i called chas my   visa credit c...   \n",
       "21069  i am not familiar with  pay and did not unders...   \n",
       "21070  i have had flawless credit for 30 yr ive had c...   \n",
       "21071  roughly 10+ year ago i closed out my account w...   \n",
       "\n",
       "                                   Complaint_POS_removed  \\\n",
       "0      morning name stop service debt verification st...   \n",
       "1      agent anniversary date agent information order...   \n",
       "2      chase card application identity consent servic...   \n",
       "3      ticket offer ticket reward card information of...   \n",
       "4      son check chase account fund chase bank accoun...   \n",
       "...                                                  ...   \n",
       "21067  chase card customer decade solicitation credit...   \n",
       "21068  credit card provider claim purchase protection...   \n",
       "21069  pay risk consumer chase bank app chase year ba...   \n",
       "21070  credit yr chase credit card chase freedom prob...   \n",
       "21071  year account order line credit account payment...   \n",
       "\n",
       "                                         Complaint_clean  \\\n",
       "0      morning name stop service debt verification st...   \n",
       "1      agent anniversary date agent information order...   \n",
       "2      chase card application identity consent servic...   \n",
       "3      ticket offer ticket reward card information of...   \n",
       "4      son check chase account fund chase bank accoun...   \n",
       "...                                                  ...   \n",
       "21067  chase card customer decade solicitation credit...   \n",
       "21068  credit card provider claim purchase protection...   \n",
       "21069  pay risk consumer chase bank app chase year ba...   \n",
       "21070  credit yr chase credit card chase freedom prob...   \n",
       "21071  year account order line credit account payment...   \n",
       "\n",
       "                          Topic  \n",
       "0               Mortgages/loans  \n",
       "1         Bank account services  \n",
       "2       Theft/Dispute reporting  \n",
       "3      Credit Card/Prepaid Card  \n",
       "4         Bank account services  \n",
       "...                         ...  \n",
       "21067   Theft/Dispute reporting  \n",
       "21068   Theft/Dispute reporting  \n",
       "21069  Credit Card/Prepaid Card  \n",
       "21070                    Others  \n",
       "21071                    Others  \n",
       "\n",
       "[21072 rows x 5 columns]"
      ]
     },
     "execution_count": 64,
     "metadata": {},
     "output_type": "execute_result"
    }
   ],
   "source": [
    "df_clean"
   ]
  },
  {
   "cell_type": "code",
   "execution_count": 65,
   "metadata": {
    "id": "Xx-FrbkWJrGH"
   },
   "outputs": [],
   "source": [
    "# Keep the columns \"complaint_what_happened\" & \"Topic\" only in the new dataframe --> training_data\n",
    "\n",
    "training_data = pd.concat([df['Complaint_What_Happened'],df_clean['Topic']], axis = 1)\n",
    "training_data.rename(columns = {'Complaint_What_Happened' : 'Complaints'}, inplace=True)"
   ]
  },
  {
   "cell_type": "code",
   "execution_count": 66,
   "metadata": {
    "id": "lVg2pa12JrGI"
   },
   "outputs": [
    {
     "data": {
      "text/html": [
       "<div>\n",
       "<style scoped>\n",
       "    .dataframe tbody tr th:only-of-type {\n",
       "        vertical-align: middle;\n",
       "    }\n",
       "\n",
       "    .dataframe tbody tr th {\n",
       "        vertical-align: top;\n",
       "    }\n",
       "\n",
       "    .dataframe thead th {\n",
       "        text-align: right;\n",
       "    }\n",
       "</style>\n",
       "<table border=\"1\" class=\"dataframe\">\n",
       "  <thead>\n",
       "    <tr style=\"text-align: right;\">\n",
       "      <th></th>\n",
       "      <th>Complaints</th>\n",
       "      <th>Topic</th>\n",
       "    </tr>\n",
       "  </thead>\n",
       "  <tbody>\n",
       "    <tr>\n",
       "      <th>0</th>\n",
       "      <td>Good morning my name is XXXX XXXX and I apprec...</td>\n",
       "      <td>Mortgages/loans</td>\n",
       "    </tr>\n",
       "    <tr>\n",
       "      <th>1</th>\n",
       "      <td>I upgraded my XXXX XXXX card in XX/XX/2018 and...</td>\n",
       "      <td>Bank account services</td>\n",
       "    </tr>\n",
       "    <tr>\n",
       "      <th>2</th>\n",
       "      <td>Chase Card was reported on XX/XX/2019. However...</td>\n",
       "      <td>Theft/Dispute reporting</td>\n",
       "    </tr>\n",
       "    <tr>\n",
       "      <th>3</th>\n",
       "      <td>On XX/XX/2018, while trying to book a XXXX  XX...</td>\n",
       "      <td>Credit Card/Prepaid Card</td>\n",
       "    </tr>\n",
       "    <tr>\n",
       "      <th>4</th>\n",
       "      <td>my grand son give me check for {$1600.00} i de...</td>\n",
       "      <td>Bank account services</td>\n",
       "    </tr>\n",
       "    <tr>\n",
       "      <th>...</th>\n",
       "      <td>...</td>\n",
       "      <td>...</td>\n",
       "    </tr>\n",
       "    <tr>\n",
       "      <th>21067</th>\n",
       "      <td>After being a Chase Card customer for well ove...</td>\n",
       "      <td>Theft/Dispute reporting</td>\n",
       "    </tr>\n",
       "    <tr>\n",
       "      <th>21068</th>\n",
       "      <td>On Wednesday, XX/XX/XXXX I called Chas, my XXX...</td>\n",
       "      <td>Theft/Dispute reporting</td>\n",
       "    </tr>\n",
       "    <tr>\n",
       "      <th>21069</th>\n",
       "      <td>I am not familiar with XXXX pay and did not un...</td>\n",
       "      <td>Credit Card/Prepaid Card</td>\n",
       "    </tr>\n",
       "    <tr>\n",
       "      <th>21070</th>\n",
       "      <td>I have had flawless credit for 30 yrs. I've ha...</td>\n",
       "      <td>Others</td>\n",
       "    </tr>\n",
       "    <tr>\n",
       "      <th>21071</th>\n",
       "      <td>Roughly 10+ years ago I closed out my accounts...</td>\n",
       "      <td>Others</td>\n",
       "    </tr>\n",
       "  </tbody>\n",
       "</table>\n",
       "<p>21072 rows × 2 columns</p>\n",
       "</div>"
      ],
      "text/plain": [
       "                                              Complaints  \\\n",
       "0      Good morning my name is XXXX XXXX and I apprec...   \n",
       "1      I upgraded my XXXX XXXX card in XX/XX/2018 and...   \n",
       "2      Chase Card was reported on XX/XX/2019. However...   \n",
       "3      On XX/XX/2018, while trying to book a XXXX  XX...   \n",
       "4      my grand son give me check for {$1600.00} i de...   \n",
       "...                                                  ...   \n",
       "21067  After being a Chase Card customer for well ove...   \n",
       "21068  On Wednesday, XX/XX/XXXX I called Chas, my XXX...   \n",
       "21069  I am not familiar with XXXX pay and did not un...   \n",
       "21070  I have had flawless credit for 30 yrs. I've ha...   \n",
       "21071  Roughly 10+ years ago I closed out my accounts...   \n",
       "\n",
       "                          Topic  \n",
       "0               Mortgages/loans  \n",
       "1         Bank account services  \n",
       "2       Theft/Dispute reporting  \n",
       "3      Credit Card/Prepaid Card  \n",
       "4         Bank account services  \n",
       "...                         ...  \n",
       "21067   Theft/Dispute reporting  \n",
       "21068   Theft/Dispute reporting  \n",
       "21069  Credit Card/Prepaid Card  \n",
       "21070                    Others  \n",
       "21071                    Others  \n",
       "\n",
       "[21072 rows x 2 columns]"
      ]
     },
     "execution_count": 66,
     "metadata": {},
     "output_type": "execute_result"
    }
   ],
   "source": [
    "training_data"
   ]
  },
  {
   "cell_type": "markdown",
   "metadata": {
    "id": "280Vbqk-7a8M"
   },
   "source": [
    "#### Apply the supervised models on the training data created. In this process, you have to do the following:\n",
    "* Create the vector counts using Count Vectoriser\n",
    "* Transform the word vecotr to tf-idf\n",
    "* Create the train & test data using the train_test_split on the tf-idf & topics\n"
   ]
  },
  {
   "cell_type": "code",
   "execution_count": 67,
   "metadata": {
    "id": "oUlQpgkzJrGI"
   },
   "outputs": [],
   "source": [
    "# Get the Vector count\n",
    "\n",
    "count_vectorizer = CountVectorizer()\n",
    "complaint_vector_count = count_vectorizer.fit_transform(training_data['Complaints'])\n",
    "\n",
    "# Transform the word vector to tf-idf\n",
    "\n",
    "tfidf_transformer = TfidfTransformer()\n",
    "complaint_tfidf_transformer = tfidf_transformer.fit_transform(complaint_vector_count)"
   ]
  },
  {
   "cell_type": "code",
   "execution_count": 68,
   "metadata": {},
   "outputs": [],
   "source": [
    "# Split the data into train and test\n",
    "\n",
    "X_train, X_test, y_train, y_test = train_test_split(complaint_tfidf_transformer, training_data['Topic'], \n",
    "                                                    train_size = 0.8, test_size = 0.2, random_state=42)"
   ]
  },
  {
   "cell_type": "markdown",
   "metadata": {
    "id": "udLHpPsZJrGI"
   },
   "source": [
    "### a. LOGISTIC REGRESSION"
   ]
  },
  {
   "cell_type": "code",
   "execution_count": 69,
   "metadata": {
    "id": "N2OznsObJrGP"
   },
   "outputs": [
    {
     "name": "stdout",
     "output_type": "stream",
     "text": [
      "\n",
      "Confusion Matrix for Logistic Regression model : \n",
      "\n",
      " [[1123   11   15    4   30]\n",
      " [  15  489   10    4   39]\n",
      " [  21    3  693    1   23]\n",
      " [  27    4   19  422   27]\n",
      " [  34   15    5    3 1178]]\n",
      "\n",
      "CLASSIFICATON REPORT FOR LOGISTIC REGRESSION MODEL : \n",
      "\n",
      "                          precision    recall  f1-score   support\n",
      "\n",
      "   Bank account services       0.92      0.95      0.93      1183\n",
      "Credit Card/Prepaid Card       0.94      0.88      0.91       557\n",
      "         Mortgages/loans       0.93      0.94      0.93       741\n",
      "                  Others       0.97      0.85      0.90       499\n",
      " Theft/Dispute reporting       0.91      0.95      0.93      1235\n",
      "\n",
      "                accuracy                           0.93      4215\n",
      "               macro avg       0.93      0.91      0.92      4215\n",
      "            weighted avg       0.93      0.93      0.93      4215\n",
      "\n"
     ]
    }
   ],
   "source": [
    "# Logistic Regression\n",
    "\n",
    "logistic_regression = LogisticRegression().fit(X_train, y_train)\n",
    "predicted_lr = logistic_regression.predict(X_test)\n",
    "\n",
    "print(\"\\nConfusion Matrix for Logistic Regression model : \\n\\n\",metrics.confusion_matrix(y_test, predicted_lr))\n",
    "print(\"\\nCLASSIFICATON REPORT FOR LOGISTIC REGRESSION MODEL : \\n\")\n",
    "print(classification_report(y_pred = predicted_lr, y_true = y_test))"
   ]
  },
  {
   "cell_type": "markdown",
   "metadata": {},
   "source": [
    "### b. DECISION TREE CLASSIFIER"
   ]
  },
  {
   "cell_type": "code",
   "execution_count": 70,
   "metadata": {},
   "outputs": [
    {
     "name": "stdout",
     "output_type": "stream",
     "text": [
      "\n",
      "Confusion Matrix for Decision Tree Classifier : \n",
      "\n",
      " [[964  30  35  34 120]\n",
      " [ 33 403  31  18  72]\n",
      " [ 51  25 591  35  39]\n",
      " [ 31  22  39 374  33]\n",
      " [ 98  79  26  35 997]]\n",
      "\n",
      "CLASSIFICATON REPORT FOR DECISION TREE CLASSIFIER : \n",
      "\n",
      "                          precision    recall  f1-score   support\n",
      "\n",
      "   Bank account services       0.82      0.81      0.82      1183\n",
      "Credit Card/Prepaid Card       0.72      0.72      0.72       557\n",
      "         Mortgages/loans       0.82      0.80      0.81       741\n",
      "                  Others       0.75      0.75      0.75       499\n",
      " Theft/Dispute reporting       0.79      0.81      0.80      1235\n",
      "\n",
      "                accuracy                           0.79      4215\n",
      "               macro avg       0.78      0.78      0.78      4215\n",
      "            weighted avg       0.79      0.79      0.79      4215\n",
      "\n"
     ]
    }
   ],
   "source": [
    "# Decision Tree Classifier\n",
    "\n",
    "decision_tree_classifier = DecisionTreeClassifier().fit(X_train, y_train)\n",
    "predicted_dtc = decision_tree_classifier.predict(X_test)\n",
    "\n",
    "print(\"\\nConfusion Matrix for Decision Tree Classifier : \\n\\n\",metrics.confusion_matrix(y_test, predicted_dtc))\n",
    "print(\"\\nCLASSIFICATON REPORT FOR DECISION TREE CLASSIFIER : \\n\")\n",
    "print(classification_report(y_pred = predicted_dtc, y_true = y_test))"
   ]
  },
  {
   "cell_type": "markdown",
   "metadata": {},
   "source": [
    "### c. RANDOM FOREST CLASSIFIER"
   ]
  },
  {
   "cell_type": "code",
   "execution_count": 78,
   "metadata": {},
   "outputs": [
    {
     "name": "stdout",
     "output_type": "stream",
     "text": [
      "\n",
      "Confusion Matrix for Random Forest classifier : \n",
      "\n",
      " [[1078   11   10    4   80]\n",
      " [  27  386   18   10  116]\n",
      " [  49   13  639    4   36]\n",
      " [  83   18   64  234  100]\n",
      " [  92   15    4    4 1120]]\n",
      "\n",
      "CLASSIFICATON REPORT FOR RANDOM FOREST CLASSIFIER : \n",
      "\n",
      "                          precision    recall  f1-score   support\n",
      "\n",
      "   Bank account services       0.81      0.91      0.86      1183\n",
      "Credit Card/Prepaid Card       0.87      0.69      0.77       557\n",
      "         Mortgages/loans       0.87      0.86      0.87       741\n",
      "                  Others       0.91      0.47      0.62       499\n",
      " Theft/Dispute reporting       0.77      0.91      0.83      1235\n",
      "\n",
      "                accuracy                           0.82      4215\n",
      "               macro avg       0.85      0.77      0.79      4215\n",
      "            weighted avg       0.83      0.82      0.81      4215\n",
      "\n"
     ]
    }
   ],
   "source": [
    "# Random Forest Classifier\n",
    "\n",
    "random_forest_classifier = RandomForestClassifier().fit(X_train, y_train)\n",
    "predicted_rfc = random_forest_classifier.predict(X_test)\n",
    "\n",
    "print(\"\\nConfusion Matrix for Random Forest classifier : \\n\\n\",metrics.confusion_matrix(y_test, predicted_rfc))\n",
    "print(\"\\nCLASSIFICATON REPORT FOR RANDOM FOREST CLASSIFIER : \\n\")\n",
    "print(classification_report(y_pred = predicted_rfc, y_true = y_test))"
   ]
  },
  {
   "cell_type": "markdown",
   "metadata": {},
   "source": [
    "### d. NAIVE BAYES"
   ]
  },
  {
   "cell_type": "code",
   "execution_count": 72,
   "metadata": {},
   "outputs": [
    {
     "name": "stdout",
     "output_type": "stream",
     "text": [
      "\n",
      "Confusion Matrix for Naive Bayes model: \n",
      "\n",
      " [[378 246 135 243 181]\n",
      " [ 61 333  56  51  56]\n",
      " [ 85 105 350 131  70]\n",
      " [ 88 118  79 144  70]\n",
      " [259 231 127 203 415]]\n",
      "\n",
      "CLASSIFICATON REPORT FOR NAIVE BAYES MODEL : \n",
      "\n",
      "                          precision    recall  f1-score   support\n",
      "\n",
      "   Bank account services       0.43      0.32      0.37      1183\n",
      "Credit Card/Prepaid Card       0.32      0.60      0.42       557\n",
      "         Mortgages/loans       0.47      0.47      0.47       741\n",
      "                  Others       0.19      0.29      0.23       499\n",
      " Theft/Dispute reporting       0.52      0.34      0.41      1235\n",
      "\n",
      "                accuracy                           0.38      4215\n",
      "               macro avg       0.39      0.40      0.38      4215\n",
      "            weighted avg       0.42      0.38      0.39      4215\n",
      "\n"
     ]
    }
   ],
   "source": [
    "# Gaussian Naive Bayes\n",
    "\n",
    "naive_bayes = GaussianNB().fit(X_train.toarray(), y_train)\n",
    "predicted_nb = naive_bayes.predict(X_test.toarray())\n",
    "\n",
    "print(\"\\nConfusion Matrix for Naive Bayes model: \\n\\n\",metrics.confusion_matrix(y_test, predicted_nb))\n",
    "print(\"\\nCLASSIFICATON REPORT FOR NAIVE BAYES MODEL : \\n\")\n",
    "print(classification_report(y_pred = predicted_nb, y_true = y_test))"
   ]
  },
  {
   "cell_type": "markdown",
   "metadata": {},
   "source": [
    "### INFERENCES : \n",
    "- __It is evident that LOGISTIC REGRESSION performs better than other models for the given problem.__ \n",
    "- __Evaluation metrics of logistic regression model :__\n",
    ">- Precision(weighted avg) : __0.93__\n",
    ">- Recall(weighted avg) : __0.93__\n",
    ">- F1 Score(weighted avg) : __0.93__\n",
    ">- Accuracy(weighted avg) : __0.93__\n",
    "- __Accuracy of Logistic Regression model :__ 0.93\n",
    "- __Accuracy of Decision tree classifier :__ 0.79\n",
    "- __Accuracy of Random forest classifier :__ 0.82\n",
    "- __Accuracy of Naive Bayes model :__ 0.38\n",
    "- __Here we have not given any parameters explicitely for Decision Tree Classifier, Random Forest Classifier and Naive Bayes. We have used the default parameters in these models.__\n",
    "- __Hence we can tune these parameters later on to get better results. Here, however we are going to consider LOGISTIC REGRESSION model as the BEST model among others.__"
   ]
  },
  {
   "cell_type": "markdown",
   "metadata": {},
   "source": [
    "## 9. MODEL INFERENCE"
   ]
  },
  {
   "cell_type": "code",
   "execution_count": 73,
   "metadata": {},
   "outputs": [],
   "source": [
    "# Lets take some sample complaints \n",
    "\n",
    "sample_complaints = pd.DataFrame({'Complaints' : [\n",
    "    \"I need some information about the new educational loan offered by the bank.\",\n",
    "    \"I have an inquiry regarding the credit card score and its total points.\",\n",
    "    \"My son sent 1000$ to my account and I could not access it. Can you see to the issue, please?\",\n",
    "    \"I had an unknown transaction been tried with my debit card and so I blocked my card asap. Is there anyway to secure my new card from theft?\",\n",
    "    \"I want to know the exact amount debitted for my college fees payment.\"]})"
   ]
  },
  {
   "cell_type": "code",
   "execution_count": 74,
   "metadata": {},
   "outputs": [],
   "source": [
    "def predict_topic(text):\n",
    "    Topic_names =   {\n",
    "                0 : \"Bank account services\",\n",
    "                1 : \"Theft/Dispute reporting\",\n",
    "                2 : \"Others\",\n",
    "                3 : \"Credit Card/Prepaid Card\",\n",
    "                4 : \"Mortgages/loans\"\n",
    "                }\n",
    "    sample_count = count_vectorizer.transform(text)\n",
    "    sample_tfidf = tfidf_transformer.transform(sample_count)\n",
    "    predicted_topic = logistic_regression.predict(sample_tfidf)\n",
    "    return predicted_topic"
   ]
  },
  {
   "cell_type": "code",
   "execution_count": 75,
   "metadata": {},
   "outputs": [
    {
     "data": {
      "text/html": [
       "<div>\n",
       "<style scoped>\n",
       "    .dataframe tbody tr th:only-of-type {\n",
       "        vertical-align: middle;\n",
       "    }\n",
       "\n",
       "    .dataframe tbody tr th {\n",
       "        vertical-align: top;\n",
       "    }\n",
       "\n",
       "    .dataframe thead th {\n",
       "        text-align: right;\n",
       "    }\n",
       "</style>\n",
       "<table border=\"1\" class=\"dataframe\">\n",
       "  <thead>\n",
       "    <tr style=\"text-align: right;\">\n",
       "      <th></th>\n",
       "      <th>Complaints</th>\n",
       "      <th>Predicted_Topic</th>\n",
       "    </tr>\n",
       "  </thead>\n",
       "  <tbody>\n",
       "    <tr>\n",
       "      <th>0</th>\n",
       "      <td>I need some information about the new educatio...</td>\n",
       "      <td>[Mortgages/loans]</td>\n",
       "    </tr>\n",
       "    <tr>\n",
       "      <th>1</th>\n",
       "      <td>I have an inquiry regarding the credit card sc...</td>\n",
       "      <td>[Credit Card/Prepaid Card]</td>\n",
       "    </tr>\n",
       "    <tr>\n",
       "      <th>2</th>\n",
       "      <td>My son sent 1000$ to my account and I could no...</td>\n",
       "      <td>[Bank account services]</td>\n",
       "    </tr>\n",
       "    <tr>\n",
       "      <th>3</th>\n",
       "      <td>I had an unknown transaction been tried with m...</td>\n",
       "      <td>[Theft/Dispute reporting]</td>\n",
       "    </tr>\n",
       "    <tr>\n",
       "      <th>4</th>\n",
       "      <td>I want to know the exact amount debitted for m...</td>\n",
       "      <td>[Others]</td>\n",
       "    </tr>\n",
       "  </tbody>\n",
       "</table>\n",
       "</div>"
      ],
      "text/plain": [
       "                                          Complaints  \\\n",
       "0  I need some information about the new educatio...   \n",
       "1  I have an inquiry regarding the credit card sc...   \n",
       "2  My son sent 1000$ to my account and I could no...   \n",
       "3  I had an unknown transaction been tried with m...   \n",
       "4  I want to know the exact amount debitted for m...   \n",
       "\n",
       "              Predicted_Topic  \n",
       "0           [Mortgages/loans]  \n",
       "1  [Credit Card/Prepaid Card]  \n",
       "2     [Bank account services]  \n",
       "3   [Theft/Dispute reporting]  \n",
       "4                    [Others]  "
      ]
     },
     "execution_count": 75,
     "metadata": {},
     "output_type": "execute_result"
    }
   ],
   "source": [
    "sample_complaints['Predicted_Topic'] = sample_complaints['Complaints'].apply(lambda x: predict_topic([x]))\n",
    "\n",
    "sample_complaints"
   ]
  },
  {
   "cell_type": "markdown",
   "metadata": {},
   "source": [
    "### INFERENCE :  \n",
    "- As expected, the topics of the sample complaints are predicted correctly using the __logistic regression model__.\n",
    "- The topics are mapped correctly as follows :\n",
    ">- \"I need some information about the new educational loan offered by the bank.\" --------- __Mortgages/loans__\n",
    ">- \"I have an inquiry regarding the credit card score and its total points.\" --------- __Credit Card/Prepaid Card__\n",
    ">- \"My son sent 1000 to my account and I could not access it. Can you see to the issue, please?\" --------- __Bank account services__\n",
    ">- \"I had an unknown transaction been tried with my debit card and so I blocked my card asap. <br>\n",
    "Is there anyway to secure my new card from theft?\" --------- __Theft/Dispute reporting__\n",
    ">- \"I want to know the exact amount debitted for my college fees payment.\" --------- __Others__"
   ]
  }
 ],
 "metadata": {
  "colab": {
   "collapsed_sections": [
    "T9jD_6SeJrF3",
    "5DfCSbbmJrF4",
    "yYzD85nTJrGA",
    "piyLxzj6v07j",
    "280Vbqk-7a8M"
   ],
   "provenance": []
  },
  "kernelspec": {
   "display_name": "Python 3 (ipykernel)",
   "language": "python",
   "name": "python3"
  },
  "language_info": {
   "codemirror_mode": {
    "name": "ipython",
    "version": 3
   },
   "file_extension": ".py",
   "mimetype": "text/x-python",
   "name": "python",
   "nbconvert_exporter": "python",
   "pygments_lexer": "ipython3",
   "version": "3.9.7"
  }
 },
 "nbformat": 4,
 "nbformat_minor": 1
}
